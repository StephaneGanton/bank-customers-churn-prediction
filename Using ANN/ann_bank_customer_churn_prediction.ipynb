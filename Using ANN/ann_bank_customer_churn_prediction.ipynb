{
 "cells": [
  {
   "cell_type": "markdown",
   "id": "48b49067-f114-47ec-a1ab-6a169bd425bd",
   "metadata": {},
   "source": [
    "## Bank customer churn Prediction Model\n",
    "\n",
    "In this project, we build an ANN model which can predict whether a customer will exit from a Bank or not ( `churn rate at bank` ). \n",
    "\n",
    "- ML Algorithm : **ANN** (Artificial Neural Network)\n",
    "- **Dataset :** available on [kaggle](). We also provide it in the folder that contains this notebook.\n",
    "- Then we use different techniques to `handle imbalanced data`.\n",
    "- These techniques are :**undersampling of the majority class**, **overersampling of the minority class**, **SMOTE**, **Ensemble with undersampling**\n",
    "- "
   ]
  },
  {
   "cell_type": "code",
   "execution_count": 1,
   "id": "c5d219cf-4a26-4641-8f29-45d5233da4b4",
   "metadata": {},
   "outputs": [
    {
     "name": "stderr",
     "output_type": "stream",
     "text": [
      "2023-10-02 03:07:44.018855: I tensorflow/core/util/port.cc:110] oneDNN custom operations are on. You may see slightly different numerical results due to floating-point round-off errors from different computation orders. To turn them off, set the environment variable `TF_ENABLE_ONEDNN_OPTS=0`.\n",
      "2023-10-02 03:07:44.020383: I tensorflow/tsl/cuda/cudart_stub.cc:28] Could not find cuda drivers on your machine, GPU will not be used.\n",
      "2023-10-02 03:07:44.056232: I tensorflow/tsl/cuda/cudart_stub.cc:28] Could not find cuda drivers on your machine, GPU will not be used.\n",
      "2023-10-02 03:07:44.056993: I tensorflow/core/platform/cpu_feature_guard.cc:182] This TensorFlow binary is optimized to use available CPU instructions in performance-critical operations.\n",
      "To enable the following instructions: AVX2 AVX512F AVX512_VNNI FMA, in other operations, rebuild TensorFlow with the appropriate compiler flags.\n",
      "2023-10-02 03:07:44.738522: W tensorflow/compiler/tf2tensorrt/utils/py_utils.cc:38] TF-TRT Warning: Could not find TensorRT\n"
     ]
    }
   ],
   "source": [
    "import tensorflow as tf\n",
    "from tensorflow import keras\n",
    "import matplotlib.pyplot as plt\n",
    "%matplotlib inline\n",
    "\n",
    "from sklearn.model_selection import train_test_split\n",
    "import numpy as np\n",
    "import pandas as pd"
   ]
  },
  {
   "cell_type": "markdown",
   "id": "bc76d642-96a9-4b20-b392-13642f098b27",
   "metadata": {},
   "source": [
    "### 1 - Load Dataset"
   ]
  },
  {
   "cell_type": "code",
   "execution_count": 2,
   "id": "c371e2e7-5128-474b-afe4-2e75fab1755c",
   "metadata": {},
   "outputs": [
    {
     "data": {
      "text/html": [
       "<div>\n",
       "<style scoped>\n",
       "    .dataframe tbody tr th:only-of-type {\n",
       "        vertical-align: middle;\n",
       "    }\n",
       "\n",
       "    .dataframe tbody tr th {\n",
       "        vertical-align: top;\n",
       "    }\n",
       "\n",
       "    .dataframe thead th {\n",
       "        text-align: right;\n",
       "    }\n",
       "</style>\n",
       "<table border=\"1\" class=\"dataframe\">\n",
       "  <thead>\n",
       "    <tr style=\"text-align: right;\">\n",
       "      <th></th>\n",
       "      <th>RowNumber</th>\n",
       "      <th>CustomerId</th>\n",
       "      <th>Surname</th>\n",
       "      <th>CreditScore</th>\n",
       "      <th>Geography</th>\n",
       "      <th>Gender</th>\n",
       "      <th>Age</th>\n",
       "      <th>Tenure</th>\n",
       "      <th>Balance</th>\n",
       "      <th>NumOfProducts</th>\n",
       "      <th>HasCrCard</th>\n",
       "      <th>IsActiveMember</th>\n",
       "      <th>EstimatedSalary</th>\n",
       "      <th>Exited</th>\n",
       "    </tr>\n",
       "  </thead>\n",
       "  <tbody>\n",
       "    <tr>\n",
       "      <th>0</th>\n",
       "      <td>1</td>\n",
       "      <td>15634602</td>\n",
       "      <td>Hargrave</td>\n",
       "      <td>619</td>\n",
       "      <td>France</td>\n",
       "      <td>Female</td>\n",
       "      <td>42</td>\n",
       "      <td>2</td>\n",
       "      <td>0.00</td>\n",
       "      <td>1</td>\n",
       "      <td>1</td>\n",
       "      <td>1</td>\n",
       "      <td>101348.88</td>\n",
       "      <td>1</td>\n",
       "    </tr>\n",
       "    <tr>\n",
       "      <th>1</th>\n",
       "      <td>2</td>\n",
       "      <td>15647311</td>\n",
       "      <td>Hill</td>\n",
       "      <td>608</td>\n",
       "      <td>Spain</td>\n",
       "      <td>Female</td>\n",
       "      <td>41</td>\n",
       "      <td>1</td>\n",
       "      <td>83807.86</td>\n",
       "      <td>1</td>\n",
       "      <td>0</td>\n",
       "      <td>1</td>\n",
       "      <td>112542.58</td>\n",
       "      <td>0</td>\n",
       "    </tr>\n",
       "    <tr>\n",
       "      <th>2</th>\n",
       "      <td>3</td>\n",
       "      <td>15619304</td>\n",
       "      <td>Onio</td>\n",
       "      <td>502</td>\n",
       "      <td>France</td>\n",
       "      <td>Female</td>\n",
       "      <td>42</td>\n",
       "      <td>8</td>\n",
       "      <td>159660.80</td>\n",
       "      <td>3</td>\n",
       "      <td>1</td>\n",
       "      <td>0</td>\n",
       "      <td>113931.57</td>\n",
       "      <td>1</td>\n",
       "    </tr>\n",
       "    <tr>\n",
       "      <th>3</th>\n",
       "      <td>4</td>\n",
       "      <td>15701354</td>\n",
       "      <td>Boni</td>\n",
       "      <td>699</td>\n",
       "      <td>France</td>\n",
       "      <td>Female</td>\n",
       "      <td>39</td>\n",
       "      <td>1</td>\n",
       "      <td>0.00</td>\n",
       "      <td>2</td>\n",
       "      <td>0</td>\n",
       "      <td>0</td>\n",
       "      <td>93826.63</td>\n",
       "      <td>0</td>\n",
       "    </tr>\n",
       "    <tr>\n",
       "      <th>4</th>\n",
       "      <td>5</td>\n",
       "      <td>15737888</td>\n",
       "      <td>Mitchell</td>\n",
       "      <td>850</td>\n",
       "      <td>Spain</td>\n",
       "      <td>Female</td>\n",
       "      <td>43</td>\n",
       "      <td>2</td>\n",
       "      <td>125510.82</td>\n",
       "      <td>1</td>\n",
       "      <td>1</td>\n",
       "      <td>1</td>\n",
       "      <td>79084.10</td>\n",
       "      <td>0</td>\n",
       "    </tr>\n",
       "  </tbody>\n",
       "</table>\n",
       "</div>"
      ],
      "text/plain": [
       "   RowNumber  CustomerId   Surname  CreditScore Geography  Gender  Age  \\\n",
       "0          1    15634602  Hargrave          619    France  Female   42   \n",
       "1          2    15647311      Hill          608     Spain  Female   41   \n",
       "2          3    15619304      Onio          502    France  Female   42   \n",
       "3          4    15701354      Boni          699    France  Female   39   \n",
       "4          5    15737888  Mitchell          850     Spain  Female   43   \n",
       "\n",
       "   Tenure    Balance  NumOfProducts  HasCrCard  IsActiveMember  \\\n",
       "0       2       0.00              1          1               1   \n",
       "1       1   83807.86              1          0               1   \n",
       "2       8  159660.80              3          1               0   \n",
       "3       1       0.00              2          0               0   \n",
       "4       2  125510.82              1          1               1   \n",
       "\n",
       "   EstimatedSalary  Exited  \n",
       "0        101348.88       1  \n",
       "1        112542.58       0  \n",
       "2        113931.57       1  \n",
       "3         93826.63       0  \n",
       "4         79084.10       0  "
      ]
     },
     "execution_count": 2,
     "metadata": {},
     "output_type": "execute_result"
    }
   ],
   "source": [
    "df = pd.read_csv(\"../../dataset/bank_churn_modelling.csv\")\n",
    "df.head()"
   ]
  },
  {
   "cell_type": "code",
   "execution_count": 3,
   "id": "8c02b8fb-f04f-424e-a14d-a13911f27cec",
   "metadata": {},
   "outputs": [
    {
     "data": {
      "text/plain": [
       "(10000, 14)"
      ]
     },
     "execution_count": 3,
     "metadata": {},
     "output_type": "execute_result"
    }
   ],
   "source": [
    "df.shape"
   ]
  },
  {
   "cell_type": "code",
   "execution_count": null,
   "id": "109a74fa-be11-4011-b1eb-e127af8860f4",
   "metadata": {},
   "outputs": [],
   "source": []
  },
  {
   "cell_type": "markdown",
   "id": "e0e3802f-ca12-4189-8623-1ca11c1d0589",
   "metadata": {},
   "source": [
    "### 2 - Data Exploration & Transformation"
   ]
  },
  {
   "cell_type": "code",
   "execution_count": null,
   "id": "2b3748de-df23-44b2-9070-b36596ecfc0b",
   "metadata": {},
   "outputs": [],
   "source": []
  },
  {
   "cell_type": "code",
   "execution_count": 4,
   "id": "693407fa-b735-4944-bb1d-b151baafbdb4",
   "metadata": {},
   "outputs": [
    {
     "data": {
      "text/plain": [
       "RowNumber            int64\n",
       "CustomerId           int64\n",
       "Surname             object\n",
       "CreditScore          int64\n",
       "Geography           object\n",
       "Gender              object\n",
       "Age                  int64\n",
       "Tenure               int64\n",
       "Balance            float64\n",
       "NumOfProducts        int64\n",
       "HasCrCard            int64\n",
       "IsActiveMember       int64\n",
       "EstimatedSalary    float64\n",
       "Exited               int64\n",
       "dtype: object"
      ]
     },
     "execution_count": 4,
     "metadata": {},
     "output_type": "execute_result"
    }
   ],
   "source": [
    "# check types of each column\n",
    "df.dtypes"
   ]
  },
  {
   "cell_type": "code",
   "execution_count": 5,
   "id": "e4ad5375-ec92-4605-9055-ffceb85f8c2b",
   "metadata": {},
   "outputs": [
    {
     "data": {
      "text/plain": [
       "RowNumber          0\n",
       "CustomerId         0\n",
       "Surname            0\n",
       "CreditScore        0\n",
       "Geography          0\n",
       "Gender             0\n",
       "Age                0\n",
       "Tenure             0\n",
       "Balance            0\n",
       "NumOfProducts      0\n",
       "HasCrCard          0\n",
       "IsActiveMember     0\n",
       "EstimatedSalary    0\n",
       "Exited             0\n",
       "dtype: int64"
      ]
     },
     "execution_count": 5,
     "metadata": {},
     "output_type": "execute_result"
    }
   ],
   "source": [
    "## check for null datapoints\n",
    "df.isna().sum()"
   ]
  },
  {
   "cell_type": "code",
   "execution_count": 6,
   "id": "307fe8fb-2d18-45a5-8805-41d0937ad6a0",
   "metadata": {
    "scrolled": true
   },
   "outputs": [
    {
     "data": {
      "text/html": [
       "<div>\n",
       "<style scoped>\n",
       "    .dataframe tbody tr th:only-of-type {\n",
       "        vertical-align: middle;\n",
       "    }\n",
       "\n",
       "    .dataframe tbody tr th {\n",
       "        vertical-align: top;\n",
       "    }\n",
       "\n",
       "    .dataframe thead th {\n",
       "        text-align: right;\n",
       "    }\n",
       "</style>\n",
       "<table border=\"1\" class=\"dataframe\">\n",
       "  <thead>\n",
       "    <tr style=\"text-align: right;\">\n",
       "      <th></th>\n",
       "      <th>RowNumber</th>\n",
       "      <th>CreditScore</th>\n",
       "      <th>Geography</th>\n",
       "      <th>Gender</th>\n",
       "      <th>Age</th>\n",
       "      <th>Tenure</th>\n",
       "      <th>Balance</th>\n",
       "      <th>NumOfProducts</th>\n",
       "      <th>HasCrCard</th>\n",
       "      <th>IsActiveMember</th>\n",
       "      <th>EstimatedSalary</th>\n",
       "      <th>Exited</th>\n",
       "    </tr>\n",
       "  </thead>\n",
       "  <tbody>\n",
       "    <tr>\n",
       "      <th>8446</th>\n",
       "      <td>8447</td>\n",
       "      <td>691</td>\n",
       "      <td>France</td>\n",
       "      <td>Female</td>\n",
       "      <td>33</td>\n",
       "      <td>6</td>\n",
       "      <td>0.0</td>\n",
       "      <td>2</td>\n",
       "      <td>1</td>\n",
       "      <td>0</td>\n",
       "      <td>164074.89</td>\n",
       "      <td>0</td>\n",
       "    </tr>\n",
       "    <tr>\n",
       "      <th>9397</th>\n",
       "      <td>9398</td>\n",
       "      <td>766</td>\n",
       "      <td>France</td>\n",
       "      <td>Female</td>\n",
       "      <td>52</td>\n",
       "      <td>7</td>\n",
       "      <td>92510.9</td>\n",
       "      <td>2</td>\n",
       "      <td>0</td>\n",
       "      <td>1</td>\n",
       "      <td>66193.61</td>\n",
       "      <td>0</td>\n",
       "    </tr>\n",
       "    <tr>\n",
       "      <th>8725</th>\n",
       "      <td>8726</td>\n",
       "      <td>633</td>\n",
       "      <td>Spain</td>\n",
       "      <td>Male</td>\n",
       "      <td>27</td>\n",
       "      <td>3</td>\n",
       "      <td>0.0</td>\n",
       "      <td>2</td>\n",
       "      <td>1</td>\n",
       "      <td>0</td>\n",
       "      <td>44008.91</td>\n",
       "      <td>0</td>\n",
       "    </tr>\n",
       "  </tbody>\n",
       "</table>\n",
       "</div>"
      ],
      "text/plain": [
       "      RowNumber  CreditScore Geography  Gender  Age  Tenure  Balance  \\\n",
       "8446       8447          691    France  Female   33       6      0.0   \n",
       "9397       9398          766    France  Female   52       7  92510.9   \n",
       "8725       8726          633     Spain    Male   27       3      0.0   \n",
       "\n",
       "      NumOfProducts  HasCrCard  IsActiveMember  EstimatedSalary  Exited  \n",
       "8446              2          1               0        164074.89       0  \n",
       "9397              2          0               1         66193.61       0  \n",
       "8725              2          1               0         44008.91       0  "
      ]
     },
     "execution_count": 6,
     "metadata": {},
     "output_type": "execute_result"
    }
   ],
   "source": [
    "## Let's remove customerId & surname from dataset : they are not usefull for prediction\n",
    "\n",
    "df.drop(['CustomerId','Surname'], axis='columns', inplace=True)\n",
    "df.sample(3)"
   ]
  },
  {
   "cell_type": "code",
   "execution_count": 7,
   "id": "dd5a620f-82f3-4e10-b740-bbadf2eb1734",
   "metadata": {},
   "outputs": [],
   "source": [
    "## Quick visualization :\n",
    "tenure_churned_customers = df[df['Exited'] == 1].Tenure # leaving customers\n",
    "tenure_no_churned_customers = df[df['Exited'] == 0].Tenure # not leaving customers"
   ]
  },
  {
   "cell_type": "code",
   "execution_count": 8,
   "id": "00a07ffb-f23d-46a9-aeca-c459121052e0",
   "metadata": {},
   "outputs": [
    {
     "data": {
      "text/plain": [
       "<matplotlib.legend.Legend at 0x7fbf9b97b400>"
      ]
     },
     "execution_count": 8,
     "metadata": {},
     "output_type": "execute_result"
    },
    {
     "data": {
      "image/png": "[encoded data removed]",
      "text/plain": [
       "<Figure size 640x480 with 1 Axes>"
      ]
     },
     "metadata": {},
     "output_type": "display_data"
    }
   ],
   "source": [
    "## churn based on Tenure\n",
    "plt.xlabel('tenure')\n",
    "plt.ylabel('number of customers')\n",
    "plt.title('Customer churn Prediction visualization')\n",
    "plt.hist([tenure_churned_customers, tenure_no_churned_customers], color=['red', 'green'], label=['Exited = Yes','Exited = No'])\n",
    "plt.legend()"
   ]
  },
  {
   "cell_type": "code",
   "execution_count": null,
   "id": "4c25e793-1792-42c7-849f-f2648184eaa4",
   "metadata": {},
   "outputs": [],
   "source": []
  },
  {
   "cell_type": "code",
   "execution_count": 9,
   "id": "4c265bd1-f408-4bd6-b7b8-a073c077edca",
   "metadata": {},
   "outputs": [
    {
     "data": {
      "text/plain": [
       "<matplotlib.legend.Legend at 0x7fbf9c5d2110>"
      ]
     },
     "execution_count": 9,
     "metadata": {},
     "output_type": "execute_result"
    },
    {
     "data": {
      "image/png": "[encoded data removed]",
      "text/plain": [
       "<Figure size 640x480 with 1 Axes>"
      ]
     },
     "metadata": {},
     "output_type": "display_data"
    }
   ],
   "source": [
    "## churn based on customer EstimatedSalary\n",
    "\n",
    "salary_churned_customers = df[df['Exited'] == 1].EstimatedSalary# leaving customers\n",
    "salary_no_churned_customers = df[df['Exited'] == 0].EstimatedSalary # not leaving customers\n",
    "\n",
    "plt.xlabel('salary')\n",
    "plt.ylabel('number of customers')\n",
    "plt.title('Customer churn Prediction visualization')\n",
    "plt.hist([salary_churned_customers, salary_no_churned_customers], color=['red', 'green'], label=['Exited = Yes','Exited = No'])\n",
    "plt.legend()"
   ]
  },
  {
   "cell_type": "code",
   "execution_count": 10,
   "id": "d17c3e5e-bb6e-4405-973b-479cad7adb05",
   "metadata": {},
   "outputs": [],
   "source": [
    "# Print unique values of categorical columns\n",
    "def print_categorical_uniq_column_value(dff):\n",
    "    for column in dff.columns:\n",
    "        if dff[column].dtypes=='object':\n",
    "            print (f'{column} : {dff[column].unique()}')"
   ]
  },
  {
   "cell_type": "code",
   "execution_count": 11,
   "id": "09a0f0a1-2892-49ad-9f80-334b2afb43ff",
   "metadata": {},
   "outputs": [
    {
     "name": "stdout",
     "output_type": "stream",
     "text": [
      "Geography : ['France' 'Spain' 'Germany']\n",
      "Gender : ['Female' 'Male']\n"
     ]
    }
   ],
   "source": [
    "print_categorical_uniq_column_value(df)"
   ]
  },
  {
   "cell_type": "code",
   "execution_count": 12,
   "id": "f424bc76-1ee8-4d0b-a4d6-589fcea5ef19",
   "metadata": {},
   "outputs": [],
   "source": [
    "df1 = df.copy()"
   ]
  },
  {
   "cell_type": "code",
   "execution_count": 13,
   "id": "c836dbfb-10da-4fa7-8a49-c640bdbe6b28",
   "metadata": {},
   "outputs": [],
   "source": [
    "### Now, only Geography and 'Gender' are string.\n",
    "# so we can convert them to interger "
   ]
  },
  {
   "cell_type": "code",
   "execution_count": 14,
   "id": "b9d99459-5150-467f-b05b-6ebc1cbe2a77",
   "metadata": {},
   "outputs": [
    {
     "data": {
      "text/html": [
       "<div>\n",
       "<style scoped>\n",
       "    .dataframe tbody tr th:only-of-type {\n",
       "        vertical-align: middle;\n",
       "    }\n",
       "\n",
       "    .dataframe tbody tr th {\n",
       "        vertical-align: top;\n",
       "    }\n",
       "\n",
       "    .dataframe thead th {\n",
       "        text-align: right;\n",
       "    }\n",
       "</style>\n",
       "<table border=\"1\" class=\"dataframe\">\n",
       "  <thead>\n",
       "    <tr style=\"text-align: right;\">\n",
       "      <th></th>\n",
       "      <th>RowNumber</th>\n",
       "      <th>CreditScore</th>\n",
       "      <th>Geography</th>\n",
       "      <th>Gender</th>\n",
       "      <th>Age</th>\n",
       "      <th>Tenure</th>\n",
       "      <th>Balance</th>\n",
       "      <th>NumOfProducts</th>\n",
       "      <th>HasCrCard</th>\n",
       "      <th>IsActiveMember</th>\n",
       "      <th>EstimatedSalary</th>\n",
       "      <th>Exited</th>\n",
       "    </tr>\n",
       "  </thead>\n",
       "  <tbody>\n",
       "    <tr>\n",
       "      <th>3786</th>\n",
       "      <td>3787</td>\n",
       "      <td>710</td>\n",
       "      <td>Germany</td>\n",
       "      <td>1</td>\n",
       "      <td>41</td>\n",
       "      <td>9</td>\n",
       "      <td>149155.53</td>\n",
       "      <td>2</td>\n",
       "      <td>1</td>\n",
       "      <td>0</td>\n",
       "      <td>42131.26</td>\n",
       "      <td>1</td>\n",
       "    </tr>\n",
       "  </tbody>\n",
       "</table>\n",
       "</div>"
      ],
      "text/plain": [
       "      RowNumber  CreditScore Geography  Gender  Age  Tenure    Balance  \\\n",
       "3786       3787          710   Germany       1   41       9  149155.53   \n",
       "\n",
       "      NumOfProducts  HasCrCard  IsActiveMember  EstimatedSalary  Exited  \n",
       "3786              2          1               0         42131.26       1  "
      ]
     },
     "execution_count": 14,
     "metadata": {},
     "output_type": "execute_result"
    }
   ],
   "source": [
    "## case of gender\n",
    "\n",
    "df1['Gender'].replace({'Male': 0, 'Female':1}, inplace=True) # male becomes 0, female becomes 1\n",
    "df1.sample()"
   ]
  },
  {
   "cell_type": "code",
   "execution_count": 15,
   "id": "f5311f8f-dec9-4f3f-a157-da78e7d0ce2c",
   "metadata": {},
   "outputs": [
    {
     "data": {
      "text/html": [
       "<div>\n",
       "<style scoped>\n",
       "    .dataframe tbody tr th:only-of-type {\n",
       "        vertical-align: middle;\n",
       "    }\n",
       "\n",
       "    .dataframe tbody tr th {\n",
       "        vertical-align: top;\n",
       "    }\n",
       "\n",
       "    .dataframe thead th {\n",
       "        text-align: right;\n",
       "    }\n",
       "</style>\n",
       "<table border=\"1\" class=\"dataframe\">\n",
       "  <thead>\n",
       "    <tr style=\"text-align: right;\">\n",
       "      <th></th>\n",
       "      <th>RowNumber</th>\n",
       "      <th>CreditScore</th>\n",
       "      <th>Gender</th>\n",
       "      <th>Age</th>\n",
       "      <th>Tenure</th>\n",
       "      <th>Balance</th>\n",
       "      <th>NumOfProducts</th>\n",
       "      <th>HasCrCard</th>\n",
       "      <th>IsActiveMember</th>\n",
       "      <th>EstimatedSalary</th>\n",
       "      <th>Exited</th>\n",
       "      <th>Geography_France</th>\n",
       "      <th>Geography_Germany</th>\n",
       "      <th>Geography_Spain</th>\n",
       "    </tr>\n",
       "  </thead>\n",
       "  <tbody>\n",
       "    <tr>\n",
       "      <th>0</th>\n",
       "      <td>1</td>\n",
       "      <td>619</td>\n",
       "      <td>1</td>\n",
       "      <td>42</td>\n",
       "      <td>2</td>\n",
       "      <td>0.00</td>\n",
       "      <td>1</td>\n",
       "      <td>1</td>\n",
       "      <td>1</td>\n",
       "      <td>101348.88</td>\n",
       "      <td>1</td>\n",
       "      <td>True</td>\n",
       "      <td>False</td>\n",
       "      <td>False</td>\n",
       "    </tr>\n",
       "    <tr>\n",
       "      <th>1</th>\n",
       "      <td>2</td>\n",
       "      <td>608</td>\n",
       "      <td>1</td>\n",
       "      <td>41</td>\n",
       "      <td>1</td>\n",
       "      <td>83807.86</td>\n",
       "      <td>1</td>\n",
       "      <td>0</td>\n",
       "      <td>1</td>\n",
       "      <td>112542.58</td>\n",
       "      <td>0</td>\n",
       "      <td>False</td>\n",
       "      <td>False</td>\n",
       "      <td>True</td>\n",
       "    </tr>\n",
       "    <tr>\n",
       "      <th>2</th>\n",
       "      <td>3</td>\n",
       "      <td>502</td>\n",
       "      <td>1</td>\n",
       "      <td>42</td>\n",
       "      <td>8</td>\n",
       "      <td>159660.80</td>\n",
       "      <td>3</td>\n",
       "      <td>1</td>\n",
       "      <td>0</td>\n",
       "      <td>113931.57</td>\n",
       "      <td>1</td>\n",
       "      <td>True</td>\n",
       "      <td>False</td>\n",
       "      <td>False</td>\n",
       "    </tr>\n",
       "    <tr>\n",
       "      <th>3</th>\n",
       "      <td>4</td>\n",
       "      <td>699</td>\n",
       "      <td>1</td>\n",
       "      <td>39</td>\n",
       "      <td>1</td>\n",
       "      <td>0.00</td>\n",
       "      <td>2</td>\n",
       "      <td>0</td>\n",
       "      <td>0</td>\n",
       "      <td>93826.63</td>\n",
       "      <td>0</td>\n",
       "      <td>True</td>\n",
       "      <td>False</td>\n",
       "      <td>False</td>\n",
       "    </tr>\n",
       "    <tr>\n",
       "      <th>4</th>\n",
       "      <td>5</td>\n",
       "      <td>850</td>\n",
       "      <td>1</td>\n",
       "      <td>43</td>\n",
       "      <td>2</td>\n",
       "      <td>125510.82</td>\n",
       "      <td>1</td>\n",
       "      <td>1</td>\n",
       "      <td>1</td>\n",
       "      <td>79084.10</td>\n",
       "      <td>0</td>\n",
       "      <td>False</td>\n",
       "      <td>False</td>\n",
       "      <td>True</td>\n",
       "    </tr>\n",
       "  </tbody>\n",
       "</table>\n",
       "</div>"
      ],
      "text/plain": [
       "   RowNumber  CreditScore  Gender  Age  Tenure    Balance  NumOfProducts  \\\n",
       "0          1          619       1   42       2       0.00              1   \n",
       "1          2          608       1   41       1   83807.86              1   \n",
       "2          3          502       1   42       8  159660.80              3   \n",
       "3          4          699       1   39       1       0.00              2   \n",
       "4          5          850       1   43       2  125510.82              1   \n",
       "\n",
       "   HasCrCard  IsActiveMember  EstimatedSalary  Exited  Geography_France  \\\n",
       "0          1               1        101348.88       1              True   \n",
       "1          0               1        112542.58       0             False   \n",
       "2          1               0        113931.57       1              True   \n",
       "3          0               0         93826.63       0              True   \n",
       "4          1               1         79084.10       0             False   \n",
       "\n",
       "   Geography_Germany  Geography_Spain  \n",
       "0              False            False  \n",
       "1              False             True  \n",
       "2              False            False  \n",
       "3              False            False  \n",
       "4              False             True  "
      ]
     },
     "execution_count": 15,
     "metadata": {},
     "output_type": "execute_result"
    }
   ],
   "source": [
    "## case of Geography : we use one hot encoding; then remove the original column\n",
    "\n",
    "df2 = pd.get_dummies(data=df1 , columns= ['Geography'] )\n",
    "\n",
    "df2.head()"
   ]
  },
  {
   "cell_type": "code",
   "execution_count": 16,
   "id": "b039cd02-d375-4d8d-9174-9dd2e0352f6e",
   "metadata": {},
   "outputs": [
    {
     "data": {
      "text/html": [
       "<div>\n",
       "<style scoped>\n",
       "    .dataframe tbody tr th:only-of-type {\n",
       "        vertical-align: middle;\n",
       "    }\n",
       "\n",
       "    .dataframe tbody tr th {\n",
       "        vertical-align: top;\n",
       "    }\n",
       "\n",
       "    .dataframe thead th {\n",
       "        text-align: right;\n",
       "    }\n",
       "</style>\n",
       "<table border=\"1\" class=\"dataframe\">\n",
       "  <thead>\n",
       "    <tr style=\"text-align: right;\">\n",
       "      <th></th>\n",
       "      <th>RowNumber</th>\n",
       "      <th>CreditScore</th>\n",
       "      <th>Gender</th>\n",
       "      <th>Age</th>\n",
       "      <th>Tenure</th>\n",
       "      <th>Balance</th>\n",
       "      <th>NumOfProducts</th>\n",
       "      <th>HasCrCard</th>\n",
       "      <th>IsActiveMember</th>\n",
       "      <th>EstimatedSalary</th>\n",
       "      <th>Exited</th>\n",
       "      <th>Geography_France</th>\n",
       "      <th>Geography_Germany</th>\n",
       "      <th>Geography_Spain</th>\n",
       "    </tr>\n",
       "  </thead>\n",
       "  <tbody>\n",
       "    <tr>\n",
       "      <th>0</th>\n",
       "      <td>1</td>\n",
       "      <td>619</td>\n",
       "      <td>1</td>\n",
       "      <td>42</td>\n",
       "      <td>2</td>\n",
       "      <td>0.00</td>\n",
       "      <td>1</td>\n",
       "      <td>1</td>\n",
       "      <td>1</td>\n",
       "      <td>101348.88</td>\n",
       "      <td>1</td>\n",
       "      <td>1</td>\n",
       "      <td>0</td>\n",
       "      <td>0</td>\n",
       "    </tr>\n",
       "    <tr>\n",
       "      <th>1</th>\n",
       "      <td>2</td>\n",
       "      <td>608</td>\n",
       "      <td>1</td>\n",
       "      <td>41</td>\n",
       "      <td>1</td>\n",
       "      <td>83807.86</td>\n",
       "      <td>1</td>\n",
       "      <td>0</td>\n",
       "      <td>1</td>\n",
       "      <td>112542.58</td>\n",
       "      <td>0</td>\n",
       "      <td>0</td>\n",
       "      <td>0</td>\n",
       "      <td>1</td>\n",
       "    </tr>\n",
       "    <tr>\n",
       "      <th>2</th>\n",
       "      <td>3</td>\n",
       "      <td>502</td>\n",
       "      <td>1</td>\n",
       "      <td>42</td>\n",
       "      <td>8</td>\n",
       "      <td>159660.80</td>\n",
       "      <td>3</td>\n",
       "      <td>1</td>\n",
       "      <td>0</td>\n",
       "      <td>113931.57</td>\n",
       "      <td>1</td>\n",
       "      <td>1</td>\n",
       "      <td>0</td>\n",
       "      <td>0</td>\n",
       "    </tr>\n",
       "    <tr>\n",
       "      <th>3</th>\n",
       "      <td>4</td>\n",
       "      <td>699</td>\n",
       "      <td>1</td>\n",
       "      <td>39</td>\n",
       "      <td>1</td>\n",
       "      <td>0.00</td>\n",
       "      <td>2</td>\n",
       "      <td>0</td>\n",
       "      <td>0</td>\n",
       "      <td>93826.63</td>\n",
       "      <td>0</td>\n",
       "      <td>1</td>\n",
       "      <td>0</td>\n",
       "      <td>0</td>\n",
       "    </tr>\n",
       "    <tr>\n",
       "      <th>4</th>\n",
       "      <td>5</td>\n",
       "      <td>850</td>\n",
       "      <td>1</td>\n",
       "      <td>43</td>\n",
       "      <td>2</td>\n",
       "      <td>125510.82</td>\n",
       "      <td>1</td>\n",
       "      <td>1</td>\n",
       "      <td>1</td>\n",
       "      <td>79084.10</td>\n",
       "      <td>0</td>\n",
       "      <td>0</td>\n",
       "      <td>0</td>\n",
       "      <td>1</td>\n",
       "    </tr>\n",
       "  </tbody>\n",
       "</table>\n",
       "</div>"
      ],
      "text/plain": [
       "   RowNumber  CreditScore  Gender  Age  Tenure    Balance  NumOfProducts  \\\n",
       "0          1          619       1   42       2       0.00              1   \n",
       "1          2          608       1   41       1   83807.86              1   \n",
       "2          3          502       1   42       8  159660.80              3   \n",
       "3          4          699       1   39       1       0.00              2   \n",
       "4          5          850       1   43       2  125510.82              1   \n",
       "\n",
       "   HasCrCard  IsActiveMember  EstimatedSalary  Exited  Geography_France  \\\n",
       "0          1               1        101348.88       1                 1   \n",
       "1          0               1        112542.58       0                 0   \n",
       "2          1               0        113931.57       1                 1   \n",
       "3          0               0         93826.63       0                 1   \n",
       "4          1               1         79084.10       0                 0   \n",
       "\n",
       "   Geography_Germany  Geography_Spain  \n",
       "0                  0                0  \n",
       "1                  0                1  \n",
       "2                  0                0  \n",
       "3                  0                0  \n",
       "4                  0                1  "
      ]
     },
     "execution_count": 16,
     "metadata": {},
     "output_type": "execute_result"
    }
   ],
   "source": [
    "## As you can see, the new columns are of type 'bool';\n",
    "## thus, we need to tuen them to int\n",
    "\n",
    "cols_to_int = ['Geography_France', 'Geography_Germany', 'Geography_Spain']\n",
    "\n",
    "for col in cols_to_int:\n",
    "    df2[col] = np.asarray(df2[col]).astype(np.int64)\n",
    "\n",
    "df2.head()"
   ]
  },
  {
   "cell_type": "code",
   "execution_count": 17,
   "id": "506a9fdc-d26c-4c59-ab13-597d51217618",
   "metadata": {},
   "outputs": [
    {
     "name": "stdout",
     "output_type": "stream",
     "text": [
      "RowNumber : [    1     2     3 ...  9998  9999 10000]\n",
      "CreditScore : [619 608 502 699 850 645 822 376 501 684 528 497 476 549 635 616 653 587\n",
      " 726 732 636 510 669 846 577 756 571 574 411 591 533 553 520 722 475 490\n",
      " 804 582 472 465 556 834 660 776 829 637 550 698 585 788 655 601 656 725\n",
      " 511 614 742 687 555 603 751 581 735 661 675 738 813 657 604 519 664 678\n",
      " 757 416 665 777 543 506 493 652 750 729 646 647 808 524 769 730 515 773\n",
      " 814 710 413 623 670 622 785 605 479 685 538 562 721 628 668 828 674 625\n",
      " 432 770 758 795 686 789 589 461 584 579 663 682 793 691 485 650 754 535\n",
      " 716 539 706 586 631 717 800 683 704 615 667 484 480 578 512 606 597 778\n",
      " 514 525 715 580 807 521 759 516 711 618 643 671 689 620 676 572 695 592\n",
      " 567 694 547 594 673 610 767 763 712 703 662 659 523 772 545 634 739 771\n",
      " 681 544 696 766 727 693 557 531 498 651 791 733 811 707 714 782 775 799\n",
      " 602 744 588 747 583 627 731 629 438 642 806 474 559 429 680 749 734 644\n",
      " 626 649 805 718 840 630 654 762 568 613 522 737 648 443 640 540 460 593\n",
      " 801 611 802 745 483 690 492 709 705 560 752 701 537 487 596 702 486 724\n",
      " 548 464 790 534 748 494 590 468 509 818 816 536 753 774 621 569 658 798\n",
      " 641 542 692 639 765 570 638 599 632 779 527 564 833 504 842 508 417 598\n",
      " 741 607 761 848 546 439 755 760 526 713 700 666 566 495 688 612 477 427\n",
      " 839 819 720 459 503 624 529 563 482 796 445 746 786 554 672 787 499 844\n",
      " 450 815 838 803 736 633 600 679 517 792 743 488 421 841 708 507 505 456\n",
      " 435 561 518 565 728 784 552 609 764 697 723 551 444 719 496 541 830 812\n",
      " 677 420 595 617 809 500 826 434 513 478 797 363 399 463 780 452 575 837\n",
      " 794 824 428 823 781 849 489 431 457 768 831 359 820 573 576 558 817 449\n",
      " 440 415 821 530 350 446 425 740 481 783 358 845 451 458 469 423 404 836\n",
      " 473 835 466 491 351 827 843 365 532 414 453 471 401 810 832 470 447 422\n",
      " 825 430 436 426 408 847 418 437 410 454 407 455 462 386 405 383 395 467\n",
      " 433 442 424 448 441 367 412 382 373 419]\n",
      "Gender : [1 0]\n",
      "Age : [42 41 39 43 44 50 29 27 31 24 34 25 35 45 58 32 38 46 36 33 40 51 61 49\n",
      " 37 19 66 56 26 21 55 75 22 30 28 65 48 52 57 73 47 54 72 20 67 79 62 53\n",
      " 80 59 68 23 60 70 63 64 18 82 69 74 71 76 77 88 85 84 78 81 92 83]\n",
      "Tenure : [ 2  1  8  7  4  6  3 10  5  9  0]\n",
      "Balance : [     0.    83807.86 159660.8  ...  57369.61  75075.31 130142.79]\n",
      "NumOfProducts : [1 3 2 4]\n",
      "HasCrCard : [1 0]\n",
      "IsActiveMember : [1 0]\n",
      "EstimatedSalary : [101348.88 112542.58 113931.57 ...  42085.58  92888.52  38190.78]\n",
      "Exited : [1 0]\n",
      "Geography_France : [1 0]\n",
      "Geography_Germany : [0 1]\n",
      "Geography_Spain : [0 1]\n"
     ]
    }
   ],
   "source": [
    "for column in df2.columns:\n",
    "    print (f'{column} : {df2[column].unique()}')"
   ]
  },
  {
   "cell_type": "code",
   "execution_count": 18,
   "id": "7ae9b0cf-1434-4f80-a50e-32a56db3b0a3",
   "metadata": {},
   "outputs": [],
   "source": [
    "### Scalling :\n",
    "### we need to scale values of : CreditScore, Age, Tenure, Balance, NumOfProducts, EstimatedSalary\n",
    "\n",
    "from sklearn.preprocessing import MinMaxScaler\n",
    "\n",
    "scaler = MinMaxScaler()\n",
    "cols_to_scale = ['CreditScore', 'Age', 'Tenure', 'Balance', 'NumOfProducts', 'EstimatedSalary']\n",
    "\n",
    "df2[cols_to_scale] = scaler.fit_transform(df2[cols_to_scale])"
   ]
  },
  {
   "cell_type": "code",
   "execution_count": 19,
   "id": "fbaf5270-8959-4066-aeed-be29e40b778c",
   "metadata": {},
   "outputs": [
    {
     "data": {
      "text/html": [
       "<div>\n",
       "<style scoped>\n",
       "    .dataframe tbody tr th:only-of-type {\n",
       "        vertical-align: middle;\n",
       "    }\n",
       "\n",
       "    .dataframe tbody tr th {\n",
       "        vertical-align: top;\n",
       "    }\n",
       "\n",
       "    .dataframe thead th {\n",
       "        text-align: right;\n",
       "    }\n",
       "</style>\n",
       "<table border=\"1\" class=\"dataframe\">\n",
       "  <thead>\n",
       "    <tr style=\"text-align: right;\">\n",
       "      <th></th>\n",
       "      <th>RowNumber</th>\n",
       "      <th>CreditScore</th>\n",
       "      <th>Gender</th>\n",
       "      <th>Age</th>\n",
       "      <th>Tenure</th>\n",
       "      <th>Balance</th>\n",
       "      <th>NumOfProducts</th>\n",
       "      <th>HasCrCard</th>\n",
       "      <th>IsActiveMember</th>\n",
       "      <th>EstimatedSalary</th>\n",
       "      <th>Exited</th>\n",
       "      <th>Geography_France</th>\n",
       "      <th>Geography_Germany</th>\n",
       "      <th>Geography_Spain</th>\n",
       "    </tr>\n",
       "  </thead>\n",
       "  <tbody>\n",
       "    <tr>\n",
       "      <th>8159</th>\n",
       "      <td>8160</td>\n",
       "      <td>0.222</td>\n",
       "      <td>1</td>\n",
       "      <td>0.094595</td>\n",
       "      <td>0.6</td>\n",
       "      <td>0.000000</td>\n",
       "      <td>0.333333</td>\n",
       "      <td>1</td>\n",
       "      <td>1</td>\n",
       "      <td>0.076481</td>\n",
       "      <td>0</td>\n",
       "      <td>0</td>\n",
       "      <td>0</td>\n",
       "      <td>1</td>\n",
       "    </tr>\n",
       "    <tr>\n",
       "      <th>3844</th>\n",
       "      <td>3845</td>\n",
       "      <td>0.662</td>\n",
       "      <td>0</td>\n",
       "      <td>0.270270</td>\n",
       "      <td>0.6</td>\n",
       "      <td>0.612689</td>\n",
       "      <td>0.000000</td>\n",
       "      <td>1</td>\n",
       "      <td>0</td>\n",
       "      <td>0.506589</td>\n",
       "      <td>0</td>\n",
       "      <td>1</td>\n",
       "      <td>0</td>\n",
       "      <td>0</td>\n",
       "    </tr>\n",
       "  </tbody>\n",
       "</table>\n",
       "</div>"
      ],
      "text/plain": [
       "      RowNumber  CreditScore  Gender       Age  Tenure   Balance  \\\n",
       "8159       8160        0.222       1  0.094595     0.6  0.000000   \n",
       "3844       3845        0.662       0  0.270270     0.6  0.612689   \n",
       "\n",
       "      NumOfProducts  HasCrCard  IsActiveMember  EstimatedSalary  Exited  \\\n",
       "8159       0.333333          1               1         0.076481       0   \n",
       "3844       0.000000          1               0         0.506589       0   \n",
       "\n",
       "      Geography_France  Geography_Germany  Geography_Spain  \n",
       "8159                 0                  0                1  \n",
       "3844                 1                  0                0  "
      ]
     },
     "execution_count": 19,
     "metadata": {},
     "output_type": "execute_result"
    }
   ],
   "source": [
    "df2.sample(2)"
   ]
  },
  {
   "cell_type": "code",
   "execution_count": null,
   "id": "7d66b7c6-ed00-4e0b-937c-b070cce5b97e",
   "metadata": {},
   "outputs": [],
   "source": []
  },
  {
   "cell_type": "markdown",
   "id": "d519df79-b05e-4529-b41a-7983c822f2bf",
   "metadata": {},
   "source": [
    "### 3- Train Model using ANN"
   ]
  },
  {
   "cell_type": "markdown",
   "id": "86689ed6-b0c0-4879-8dae-13f9ec9a5f6d",
   "metadata": {},
   "source": [
    "#### a- Define x, y"
   ]
  },
  {
   "cell_type": "code",
   "execution_count": 20,
   "id": "6de2a55b-78c0-472a-862a-68ac3ec69335",
   "metadata": {},
   "outputs": [],
   "source": [
    "x = df2.drop('Exited', axis='columns')\n",
    "y = df2['Exited']"
   ]
  },
  {
   "cell_type": "code",
   "execution_count": 21,
   "id": "89393fc1-4cb8-4e60-8488-77ba5e51d99d",
   "metadata": {},
   "outputs": [
    {
     "data": {
      "text/html": [
       "<div>\n",
       "<style scoped>\n",
       "    .dataframe tbody tr th:only-of-type {\n",
       "        vertical-align: middle;\n",
       "    }\n",
       "\n",
       "    .dataframe tbody tr th {\n",
       "        vertical-align: top;\n",
       "    }\n",
       "\n",
       "    .dataframe thead th {\n",
       "        text-align: right;\n",
       "    }\n",
       "</style>\n",
       "<table border=\"1\" class=\"dataframe\">\n",
       "  <thead>\n",
       "    <tr style=\"text-align: right;\">\n",
       "      <th></th>\n",
       "      <th>RowNumber</th>\n",
       "      <th>CreditScore</th>\n",
       "      <th>Gender</th>\n",
       "      <th>Age</th>\n",
       "      <th>Tenure</th>\n",
       "      <th>Balance</th>\n",
       "      <th>NumOfProducts</th>\n",
       "      <th>HasCrCard</th>\n",
       "      <th>IsActiveMember</th>\n",
       "      <th>EstimatedSalary</th>\n",
       "      <th>Geography_France</th>\n",
       "      <th>Geography_Germany</th>\n",
       "      <th>Geography_Spain</th>\n",
       "    </tr>\n",
       "  </thead>\n",
       "  <tbody>\n",
       "    <tr>\n",
       "      <th>3760</th>\n",
       "      <td>3761</td>\n",
       "      <td>0.97</td>\n",
       "      <td>0</td>\n",
       "      <td>0.270270</td>\n",
       "      <td>0.7</td>\n",
       "      <td>0.346053</td>\n",
       "      <td>0.000000</td>\n",
       "      <td>0</td>\n",
       "      <td>0</td>\n",
       "      <td>0.879556</td>\n",
       "      <td>0</td>\n",
       "      <td>0</td>\n",
       "      <td>1</td>\n",
       "    </tr>\n",
       "    <tr>\n",
       "      <th>7682</th>\n",
       "      <td>7683</td>\n",
       "      <td>0.70</td>\n",
       "      <td>0</td>\n",
       "      <td>0.148649</td>\n",
       "      <td>0.8</td>\n",
       "      <td>0.000000</td>\n",
       "      <td>0.333333</td>\n",
       "      <td>0</td>\n",
       "      <td>1</td>\n",
       "      <td>0.760500</td>\n",
       "      <td>0</td>\n",
       "      <td>0</td>\n",
       "      <td>1</td>\n",
       "    </tr>\n",
       "  </tbody>\n",
       "</table>\n",
       "</div>"
      ],
      "text/plain": [
       "      RowNumber  CreditScore  Gender       Age  Tenure   Balance  \\\n",
       "3760       3761         0.97       0  0.270270     0.7  0.346053   \n",
       "7682       7683         0.70       0  0.148649     0.8  0.000000   \n",
       "\n",
       "      NumOfProducts  HasCrCard  IsActiveMember  EstimatedSalary  \\\n",
       "3760       0.000000          0               0         0.879556   \n",
       "7682       0.333333          0               1         0.760500   \n",
       "\n",
       "      Geography_France  Geography_Germany  Geography_Spain  \n",
       "3760                 0                  0                1  \n",
       "7682                 0                  0                1  "
      ]
     },
     "execution_count": 21,
     "metadata": {},
     "output_type": "execute_result"
    }
   ],
   "source": [
    "x.sample(2)"
   ]
  },
  {
   "cell_type": "code",
   "execution_count": 22,
   "id": "0c770e3f-687e-47ef-bada-5c93086eba97",
   "metadata": {},
   "outputs": [
    {
     "data": {
      "text/html": [
       "<div>\n",
       "<style scoped>\n",
       "    .dataframe tbody tr th:only-of-type {\n",
       "        vertical-align: middle;\n",
       "    }\n",
       "\n",
       "    .dataframe tbody tr th {\n",
       "        vertical-align: top;\n",
       "    }\n",
       "\n",
       "    .dataframe thead th {\n",
       "        text-align: right;\n",
       "    }\n",
       "</style>\n",
       "<table border=\"1\" class=\"dataframe\">\n",
       "  <thead>\n",
       "    <tr style=\"text-align: right;\">\n",
       "      <th></th>\n",
       "      <th>RowNumber</th>\n",
       "      <th>CreditScore</th>\n",
       "      <th>Gender</th>\n",
       "      <th>Age</th>\n",
       "      <th>Tenure</th>\n",
       "      <th>Balance</th>\n",
       "      <th>NumOfProducts</th>\n",
       "      <th>HasCrCard</th>\n",
       "      <th>IsActiveMember</th>\n",
       "      <th>EstimatedSalary</th>\n",
       "      <th>Geography_France</th>\n",
       "      <th>Geography_Germany</th>\n",
       "      <th>Geography_Spain</th>\n",
       "    </tr>\n",
       "  </thead>\n",
       "  <tbody>\n",
       "    <tr>\n",
       "      <th>5464</th>\n",
       "      <td>5465</td>\n",
       "      <td>0.412</td>\n",
       "      <td>1</td>\n",
       "      <td>0.243243</td>\n",
       "      <td>0.2</td>\n",
       "      <td>0.534911</td>\n",
       "      <td>0.000000</td>\n",
       "      <td>0</td>\n",
       "      <td>1</td>\n",
       "      <td>0.888380</td>\n",
       "      <td>1</td>\n",
       "      <td>0</td>\n",
       "      <td>0</td>\n",
       "    </tr>\n",
       "    <tr>\n",
       "      <th>2831</th>\n",
       "      <td>2832</td>\n",
       "      <td>0.552</td>\n",
       "      <td>1</td>\n",
       "      <td>0.189189</td>\n",
       "      <td>0.0</td>\n",
       "      <td>0.000000</td>\n",
       "      <td>0.333333</td>\n",
       "      <td>0</td>\n",
       "      <td>0</td>\n",
       "      <td>0.935894</td>\n",
       "      <td>1</td>\n",
       "      <td>0</td>\n",
       "      <td>0</td>\n",
       "    </tr>\n",
       "  </tbody>\n",
       "</table>\n",
       "</div>"
      ],
      "text/plain": [
       "      RowNumber  CreditScore  Gender       Age  Tenure   Balance  \\\n",
       "5464       5465        0.412       1  0.243243     0.2  0.534911   \n",
       "2831       2832        0.552       1  0.189189     0.0  0.000000   \n",
       "\n",
       "      NumOfProducts  HasCrCard  IsActiveMember  EstimatedSalary  \\\n",
       "5464       0.000000          0               1         0.888380   \n",
       "2831       0.333333          0               0         0.935894   \n",
       "\n",
       "      Geography_France  Geography_Germany  Geography_Spain  \n",
       "5464                 1                  0                0  \n",
       "2831                 1                  0                0  "
      ]
     },
     "execution_count": 22,
     "metadata": {},
     "output_type": "execute_result"
    }
   ],
   "source": [
    "x.sample(2)"
   ]
  },
  {
   "cell_type": "code",
   "execution_count": 23,
   "id": "82673d53-71bd-4dc0-8a10-40708f0ac447",
   "metadata": {},
   "outputs": [
    {
     "data": {
      "text/plain": [
       "5555    0\n",
       "4088    0\n",
       "Name: Exited, dtype: int64"
      ]
     },
     "execution_count": 23,
     "metadata": {},
     "output_type": "execute_result"
    }
   ],
   "source": [
    "y.sample(2)"
   ]
  },
  {
   "cell_type": "markdown",
   "id": "be5c5da5-5b2d-4536-86d6-5adb246dacb3",
   "metadata": {},
   "source": [
    "#### b- Split data"
   ]
  },
  {
   "cell_type": "code",
   "execution_count": 24,
   "id": "3749bd26-ab7d-47ac-a0e2-a756cb14197d",
   "metadata": {},
   "outputs": [],
   "source": [
    "x_train, x_test, y_train, y_test = train_test_split(x, y, test_size=0.2, shuffle=True)"
   ]
  },
  {
   "cell_type": "code",
   "execution_count": 25,
   "id": "edeb02be-3c1b-4901-8485-51fbdedda9f2",
   "metadata": {},
   "outputs": [
    {
     "data": {
      "text/plain": [
       "(8000, 13)"
      ]
     },
     "execution_count": 25,
     "metadata": {},
     "output_type": "execute_result"
    }
   ],
   "source": [
    "x_train.shape"
   ]
  },
  {
   "cell_type": "code",
   "execution_count": 26,
   "id": "5edd2e10-c50c-4db5-bd64-28d4eb0381b3",
   "metadata": {},
   "outputs": [
    {
     "data": {
      "text/html": [
       "<div>\n",
       "<style scoped>\n",
       "    .dataframe tbody tr th:only-of-type {\n",
       "        vertical-align: middle;\n",
       "    }\n",
       "\n",
       "    .dataframe tbody tr th {\n",
       "        vertical-align: top;\n",
       "    }\n",
       "\n",
       "    .dataframe thead th {\n",
       "        text-align: right;\n",
       "    }\n",
       "</style>\n",
       "<table border=\"1\" class=\"dataframe\">\n",
       "  <thead>\n",
       "    <tr style=\"text-align: right;\">\n",
       "      <th></th>\n",
       "      <th>RowNumber</th>\n",
       "      <th>CreditScore</th>\n",
       "      <th>Gender</th>\n",
       "      <th>Age</th>\n",
       "      <th>Tenure</th>\n",
       "      <th>Balance</th>\n",
       "      <th>NumOfProducts</th>\n",
       "      <th>HasCrCard</th>\n",
       "      <th>IsActiveMember</th>\n",
       "      <th>EstimatedSalary</th>\n",
       "      <th>Geography_France</th>\n",
       "      <th>Geography_Germany</th>\n",
       "      <th>Geography_Spain</th>\n",
       "    </tr>\n",
       "  </thead>\n",
       "  <tbody>\n",
       "    <tr>\n",
       "      <th>4537</th>\n",
       "      <td>4538</td>\n",
       "      <td>0.72</td>\n",
       "      <td>1</td>\n",
       "      <td>0.175676</td>\n",
       "      <td>0.5</td>\n",
       "      <td>0.0</td>\n",
       "      <td>0.333333</td>\n",
       "      <td>1</td>\n",
       "      <td>0</td>\n",
       "      <td>0.047755</td>\n",
       "      <td>0</td>\n",
       "      <td>0</td>\n",
       "      <td>1</td>\n",
       "    </tr>\n",
       "  </tbody>\n",
       "</table>\n",
       "</div>"
      ],
      "text/plain": [
       "      RowNumber  CreditScore  Gender       Age  Tenure  Balance  \\\n",
       "4537       4538         0.72       1  0.175676     0.5      0.0   \n",
       "\n",
       "      NumOfProducts  HasCrCard  IsActiveMember  EstimatedSalary  \\\n",
       "4537       0.333333          1               0         0.047755   \n",
       "\n",
       "      Geography_France  Geography_Germany  Geography_Spain  \n",
       "4537                 0                  0                1  "
      ]
     },
     "execution_count": 26,
     "metadata": {},
     "output_type": "execute_result"
    }
   ],
   "source": [
    "x_train.sample()"
   ]
  },
  {
   "cell_type": "markdown",
   "id": "7d30918a-d266-4329-8712-9fee2d531fe9",
   "metadata": {},
   "source": [
    "#### c - ANN model"
   ]
  },
  {
   "cell_type": "code",
   "execution_count": 27,
   "id": "793d7f29-3c1d-4295-9012-d0062810dc9b",
   "metadata": {},
   "outputs": [
    {
     "name": "stdout",
     "output_type": "stream",
     "text": [
      "Epoch 1/5\n",
      "250/250 [==============================] - 1s 963us/step - loss: 19.4202 - accuracy: 0.6777\n",
      "Epoch 2/5\n",
      "250/250 [==============================] - 0s 1ms/step - loss: 1.0243 - accuracy: 0.7010\n",
      "Epoch 3/5\n",
      "250/250 [==============================] - 0s 885us/step - loss: 0.9383 - accuracy: 0.7107\n",
      "Epoch 4/5\n",
      "250/250 [==============================] - 0s 1ms/step - loss: 0.7702 - accuracy: 0.7343\n",
      "Epoch 5/5\n",
      "250/250 [==============================] - 0s 882us/step - loss: 0.7808 - accuracy: 0.7420\n"
     ]
    },
    {
     "data": {
      "text/plain": [
       "<keras.src.callbacks.History at 0x7fbf9c32a680>"
      ]
     },
     "execution_count": 27,
     "metadata": {},
     "output_type": "execute_result"
    }
   ],
   "source": [
    "model = tf.keras.Sequential([\n",
    "    keras.layers.Dense(20 , input_shape=(13,), activation='relu'),\n",
    "    keras.layers.Dense(1, activation='sigmoid'),\n",
    "])\n",
    "\n",
    "model.compile(\n",
    "    optimizer = 'adam',\n",
    "    loss = 'binary_crossentropy',\n",
    "    metrics = ['accuracy']\n",
    ")\n",
    "\n",
    "model.fit(x_train, y_train, epochs= 5)"
   ]
  },
  {
   "cell_type": "markdown",
   "id": "98e3df6d-f34a-4fb1-b1b6-5da6b80f48c4",
   "metadata": {},
   "source": [
    "#### d - Evaluate model"
   ]
  },
  {
   "cell_type": "code",
   "execution_count": 28,
   "id": "3cba2d6b-39af-45fa-8d84-e300b1c6007d",
   "metadata": {},
   "outputs": [
    {
     "name": "stdout",
     "output_type": "stream",
     "text": [
      "63/63 [==============================] - 0s 1ms/step - loss: 0.7783 - accuracy: 0.8115\n"
     ]
    },
    {
     "data": {
      "text/plain": [
       "[0.7783252596855164, 0.8115000128746033]"
      ]
     },
     "execution_count": 28,
     "metadata": {},
     "output_type": "execute_result"
    }
   ],
   "source": [
    "model.evaluate(x_test, y_test)"
   ]
  },
  {
   "cell_type": "markdown",
   "id": "3f4351e8-014e-4741-b8af-543bfe3f1a7a",
   "metadata": {},
   "source": [
    "#### e - Make Prediction"
   ]
  },
  {
   "cell_type": "code",
   "execution_count": 29,
   "id": "222e6ebb-63bd-4432-89fd-3c0c592fcf9e",
   "metadata": {},
   "outputs": [
    {
     "name": "stdout",
     "output_type": "stream",
     "text": [
      "63/63 [==============================] - 0s 745us/step\n"
     ]
    },
    {
     "data": {
      "text/plain": [
       "array([[0.01756945],\n",
       "       [0.00055596],\n",
       "       [0.02160946],\n",
       "       [0.00300269],\n",
       "       [0.02931909],\n",
       "       [0.02399981],\n",
       "       [0.00655369],\n",
       "       [0.02129683],\n",
       "       [0.32272038],\n",
       "       [0.0163769 ]], dtype=float32)"
      ]
     },
     "execution_count": 29,
     "metadata": {},
     "output_type": "execute_result"
    }
   ],
   "source": [
    "yp = model.predict(x_test)\n",
    "yp[:10]"
   ]
  },
  {
   "cell_type": "code",
   "execution_count": null,
   "id": "a71d8c81-35c2-4c65-87ca-0f6c0df55182",
   "metadata": {},
   "outputs": [],
   "source": []
  },
  {
   "cell_type": "markdown",
   "id": "0f3eb9e2-4438-492e-a663-0e95e1f5f8bf",
   "metadata": {},
   "source": [
    "#### f - Print Classification Report\n",
    "\n",
    "It will give a statistic on the performance of all the model.\n",
    "This statistic include : `precision, recall, f1-score, support`"
   ]
  },
  {
   "cell_type": "markdown",
   "id": "9766946e-b2e7-42c6-bcef-f620a4d134ef",
   "metadata": {},
   "source": [
    " **Remark :** that yp is a two dimentional array. We need to convert it into one dimentional array\n",
    "\n",
    "Also, when the value in the array `is less than 0.50`, we replace it by `0`; by `1` if it is `>= 0.5`"
   ]
  },
  {
   "cell_type": "code",
   "execution_count": 30,
   "id": "95438309-5d7d-4617-b183-cab34d297bcc",
   "metadata": {},
   "outputs": [
    {
     "data": {
      "text/plain": [
       "[0, 0, 0, 0, 0, 0, 0, 0, 0, 0]"
      ]
     },
     "execution_count": 30,
     "metadata": {},
     "output_type": "execute_result"
    }
   ],
   "source": [
    "y_pred = []\n",
    "for elment in yp:\n",
    "    if elment > 0.5:\n",
    "        y_pred.append(1)\n",
    "    else:\n",
    "        y_pred.append(0)\n",
    "\n",
    "y_pred[:10]"
   ]
  },
  {
   "cell_type": "code",
   "execution_count": 31,
   "id": "d11d2fbe-3680-4894-8549-a7138d754fcf",
   "metadata": {},
   "outputs": [
    {
     "name": "stdout",
     "output_type": "stream",
     "text": [
      "              precision    recall  f1-score   support\n",
      "\n",
      "           0       0.81      1.00      0.90      1625\n",
      "           1       0.25      0.00      0.01       375\n",
      "\n",
      "    accuracy                           0.81      2000\n",
      "   macro avg       0.53      0.50      0.45      2000\n",
      "weighted avg       0.71      0.81      0.73      2000\n",
      "\n"
     ]
    }
   ],
   "source": [
    "from sklearn.metrics import confusion_matrix, classification_report\n",
    "\n",
    "print(classification_report(y_test, y_pred))"
   ]
  },
  {
   "cell_type": "code",
   "execution_count": 32,
   "id": "b514887c-57ef-4d3e-897c-1b8458316fcd",
   "metadata": {},
   "outputs": [
    {
     "data": {
      "text/plain": [
       "Text(95.72222222222221, 0.5, 'Truth ')"
      ]
     },
     "execution_count": 32,
     "metadata": {},
     "output_type": "execute_result"
    },
    {
     "data": {
      "image/png": "[encoded data removed]",
      "text/plain": [
       "<Figure size 1000x700 with 2 Axes>"
      ]
     },
     "metadata": {},
     "output_type": "display_data"
    }
   ],
   "source": [
    "## Pretty visualization\n",
    "\n",
    "import seaborn as sn\n",
    "\n",
    "cm = tf.math.confusion_matrix(labels=y_test, predictions=y_pred)\n",
    "\n",
    "plt.figure(figsize=(10,7))\n",
    "sn.heatmap(cm, annot= True, fmt='d')\n",
    "plt.xlabel(\"Predicted\")\n",
    "plt.ylabel(\"Truth \")"
   ]
  },
  {
   "cell_type": "markdown",
   "id": "f8300aed-836d-4dad-834e-99d66e9597e0",
   "metadata": {},
   "source": [
    "### 4 - Handle imbalanced Data"
   ]
  },
  {
   "cell_type": "markdown",
   "id": "18902bac-a174-4e6d-b661-6157efaeca60",
   "metadata": {},
   "source": [
    "In classification problems, `Imbalalance data` occurs when the dataset is set with skewed classes. In other words, it is when a class is less represented than an another in a dataset. It is a well known problem in `Churn prediction` problems. \n",
    "\n",
    "In our case, we can remark that `class 0` has a large proportion of our dataset and `class 1` has a smaller proportion. Thus, a model that is trained using such dataset will learn more from `class 0` samples than it will does on `class 1` samples.\n",
    "\n",
    "To handle this, we can use different techniques such as : **undersampling of the majority class**, **overersampling of the minority class**, **SMOTE**, **Ensemble with undersampling**\n",
    "\n",
    "Here, we've tried all these techniques."
   ]
  },
  {
   "cell_type": "code",
   "execution_count": 33,
   "id": "7a4f8c34-3efe-4503-ad93-b4dc242b59be",
   "metadata": {},
   "outputs": [],
   "source": [
    "def ANN(x_train, y_train, x_test, y_test, loss, weights):\n",
    "    model = keras.Sequential([\n",
    "        keras.layers.Dense(20, input_shape=(13,), activation='relu'),\n",
    "        #keras.layers.Dense(20, input_shape=(13,), activation='relu'),\n",
    "        keras.layers.Dense(1, activation='sigmoid'),\n",
    "    ])\n",
    "\n",
    "    model.compile(\n",
    "        optimizer = 'adam',\n",
    "        loss = loss, \n",
    "        metrics=['accuracy'],\n",
    "    )\n",
    "\n",
    "    if weights == -1:\n",
    "        model.fit(x_train, y_train, epochs=100)\n",
    "    else:\n",
    "        model.fit(x_train, y_train, epochs=100, class_weight = weights) #class_weight = weights is what people often use to tackle imbalenced dataset\n",
    "\n",
    "    print( model.evaluate(x_test, y_test) )\n",
    "\n",
    "    y_preds = np.round(model.predict(x_test))\n",
    "\n",
    "    print(\"Classification report :\")\n",
    "\n",
    "    print(classification_report(y_test, y_preds))\n",
    "\n",
    "    return y_preds"
   ]
  },
  {
   "cell_type": "code",
   "execution_count": 34,
   "id": "b9477757-61c8-463b-b013-685609f05817",
   "metadata": {},
   "outputs": [
    {
     "data": {
      "text/plain": [
       "Exited\n",
       "0    1625\n",
       "1     375\n",
       "Name: count, dtype: int64"
      ]
     },
     "execution_count": 34,
     "metadata": {},
     "output_type": "execute_result"
    }
   ],
   "source": [
    "y_test.value_counts()"
   ]
  },
  {
   "cell_type": "markdown",
   "id": "9197a64a-d8ce-48ed-869a-ea33b305e41d",
   "metadata": {},
   "source": [
    "#### Method 1 : Using Under sampling"
   ]
  },
  {
   "cell_type": "code",
   "execution_count": 35,
   "id": "2bd6cc75-895f-4e96-bdea-9dc268fac702",
   "metadata": {},
   "outputs": [
    {
     "data": {
      "text/plain": [
       "7963"
      ]
     },
     "execution_count": 35,
     "metadata": {},
     "output_type": "execute_result"
    }
   ],
   "source": [
    "# count class\n",
    "count_class_0, count_class_1 = df1.Exited.value_counts()\n",
    "count_class_0"
   ]
  },
  {
   "cell_type": "code",
   "execution_count": 36,
   "id": "0c91bad4-cae5-4cbd-87c0-09ef83edc0f2",
   "metadata": {},
   "outputs": [
    {
     "data": {
      "text/plain": [
       "2037"
      ]
     },
     "execution_count": 36,
     "metadata": {},
     "output_type": "execute_result"
    }
   ],
   "source": [
    "count_class_1"
   ]
  },
  {
   "cell_type": "code",
   "execution_count": 37,
   "id": "218446df-ae4a-402f-991a-61aa7b51ff49",
   "metadata": {},
   "outputs": [],
   "source": [
    "#divide by class\n",
    "\n",
    "df_class_0 = df2[df2['Exited'] == 0]\n",
    "df_class_1 = df2[df2['Exited'] == 1]"
   ]
  },
  {
   "cell_type": "code",
   "execution_count": 38,
   "id": "ddf9e071-b099-4fd5-851e-f1e41e172bdd",
   "metadata": {},
   "outputs": [
    {
     "data": {
      "text/plain": [
       "(7963, 14)"
      ]
     },
     "execution_count": 38,
     "metadata": {},
     "output_type": "execute_result"
    }
   ],
   "source": [
    "df_class_0.shape"
   ]
  },
  {
   "cell_type": "code",
   "execution_count": 39,
   "id": "1a12de1c-ae3d-49d2-91ef-63a739577e41",
   "metadata": {},
   "outputs": [
    {
     "data": {
      "text/plain": [
       "(2037, 14)"
      ]
     },
     "execution_count": 39,
     "metadata": {},
     "output_type": "execute_result"
    }
   ],
   "source": [
    "df_class_1.shape"
   ]
  },
  {
   "cell_type": "markdown",
   "id": "b8c07287-dcdd-4f39-903d-80f57cf6fa96",
   "metadata": {},
   "source": [
    "As we can see, `class_0` is the larger on. So, we will under sampled it such a way that it will have the same shape as `class_1`."
   ]
  },
  {
   "cell_type": "code",
   "execution_count": 40,
   "id": "3079f4fa-b43b-49da-9697-5f4549a72b62",
   "metadata": {},
   "outputs": [
    {
     "data": {
      "text/plain": [
       "(4074, 14)"
      ]
     },
     "execution_count": 40,
     "metadata": {},
     "output_type": "execute_result"
    }
   ],
   "source": [
    "## under sampling 0_class\n",
    "\n",
    "df_class_0_under = df_class_0.sample(count_class_1)\n",
    "\n",
    "df_test_under = pd.concat([df_class_0_under, df_class_1], axis = 0)\n",
    "\n",
    "df_test_under.shape"
   ]
  },
  {
   "cell_type": "code",
   "execution_count": 41,
   "id": "4669d27c-b344-4d31-89de-a3116974f97c",
   "metadata": {},
   "outputs": [
    {
     "name": "stdout",
     "output_type": "stream",
     "text": [
      "Exited\n",
      "0    2037\n",
      "1    2037\n",
      "Name: count, dtype: int64\n"
     ]
    }
   ],
   "source": [
    "print(df_test_under.Exited.value_counts())"
   ]
  },
  {
   "cell_type": "code",
   "execution_count": 42,
   "id": "43696b61-dd7f-4608-b6b5-3460206ef27b",
   "metadata": {},
   "outputs": [],
   "source": [
    "x = df_test_under.drop('Exited', axis='columns')\n",
    "y = df_test_under['Exited']\n",
    "\n",
    "from sklearn.model_selection import train_test_split\n",
    "x_train, x_test, y_train, y_test = train_test_split(x,y, test_size = 0.2, random_state=15, stratify = y ) # stratify is used to be sure that sample are balanced"
   ]
  },
  {
   "cell_type": "code",
   "execution_count": 43,
   "id": "50ce1396-fb2c-42ff-9be7-69c5582b3728",
   "metadata": {},
   "outputs": [
    {
     "name": "stdout",
     "output_type": "stream",
     "text": [
      "Exited\n",
      "1    1630\n",
      "0    1629\n",
      "Name: count, dtype: int64\n"
     ]
    }
   ],
   "source": [
    "print(y_train.value_counts())"
   ]
  },
  {
   "cell_type": "code",
   "execution_count": 44,
   "id": "421a722b-cbc9-472c-bbdd-697524a9d227",
   "metadata": {},
   "outputs": [
    {
     "name": "stdout",
     "output_type": "stream",
     "text": [
      "Epoch 1/100\n",
      "102/102 [==============================] - 0s 1ms/step - loss: 59.7242 - accuracy: 0.5103\n",
      "Epoch 2/100\n",
      "102/102 [==============================] - 0s 1ms/step - loss: 0.8548 - accuracy: 0.5106\n",
      "Epoch 3/100\n",
      "102/102 [==============================] - 0s 1ms/step - loss: 1.1146 - accuracy: 0.5315\n",
      "Epoch 4/100\n",
      "102/102 [==============================] - 0s 965us/step - loss: 0.9428 - accuracy: 0.5284\n",
      "Epoch 5/100\n",
      "102/102 [==============================] - 0s 1ms/step - loss: 0.8892 - accuracy: 0.5511\n",
      "Epoch 6/100\n",
      "102/102 [==============================] - 0s 1ms/step - loss: 1.1044 - accuracy: 0.5403\n",
      "Epoch 7/100\n",
      "102/102 [==============================] - 0s 1ms/step - loss: 0.8714 - accuracy: 0.5677\n",
      "Epoch 8/100\n",
      "102/102 [==============================] - 0s 1ms/step - loss: 1.3322 - accuracy: 0.5345\n",
      "Epoch 9/100\n",
      "102/102 [==============================] - 0s 1ms/step - loss: 1.1517 - accuracy: 0.5726\n",
      "Epoch 10/100\n",
      "102/102 [==============================] - 0s 1ms/step - loss: 1.0162 - accuracy: 0.5627\n",
      "Epoch 11/100\n",
      "102/102 [==============================] - 0s 1ms/step - loss: 0.8672 - accuracy: 0.5689\n",
      "Epoch 12/100\n",
      "102/102 [==============================] - 0s 2ms/step - loss: 0.8029 - accuracy: 0.5944\n",
      "Epoch 13/100\n",
      "102/102 [==============================] - 0s 2ms/step - loss: 1.2012 - accuracy: 0.5643\n",
      "Epoch 14/100\n",
      "102/102 [==============================] - 0s 2ms/step - loss: 0.8528 - accuracy: 0.5799\n",
      "Epoch 15/100\n",
      "102/102 [==============================] - 0s 2ms/step - loss: 0.9682 - accuracy: 0.5763\n",
      "Epoch 16/100\n",
      "102/102 [==============================] - 0s 2ms/step - loss: 0.9528 - accuracy: 0.5655\n",
      "Epoch 17/100\n",
      "102/102 [==============================] - 0s 2ms/step - loss: 1.0253 - accuracy: 0.5698\n",
      "Epoch 18/100\n",
      "102/102 [==============================] - 0s 2ms/step - loss: 0.8706 - accuracy: 0.5922\n",
      "Epoch 19/100\n",
      "102/102 [==============================] - 0s 2ms/step - loss: 1.3747 - accuracy: 0.5591\n",
      "Epoch 20/100\n",
      "102/102 [==============================] - 0s 2ms/step - loss: 0.9719 - accuracy: 0.5781\n",
      "Epoch 21/100\n",
      "102/102 [==============================] - 0s 2ms/step - loss: 1.3705 - accuracy: 0.5554\n",
      "Epoch 22/100\n",
      "102/102 [==============================] - 0s 2ms/step - loss: 0.8350 - accuracy: 0.5944\n",
      "Epoch 23/100\n",
      "102/102 [==============================] - 0s 2ms/step - loss: 1.1510 - accuracy: 0.5937\n",
      "Epoch 24/100\n",
      "102/102 [==============================] - 0s 2ms/step - loss: 0.8194 - accuracy: 0.5980\n",
      "Epoch 25/100\n",
      "102/102 [==============================] - 0s 2ms/step - loss: 1.1831 - accuracy: 0.5726\n",
      "Epoch 26/100\n",
      "102/102 [==============================] - 0s 2ms/step - loss: 1.4657 - accuracy: 0.5670\n",
      "Epoch 27/100\n",
      "102/102 [==============================] - 0s 2ms/step - loss: 1.2175 - accuracy: 0.5753\n",
      "Epoch 28/100\n",
      "102/102 [==============================] - 0s 2ms/step - loss: 1.0386 - accuracy: 0.5805\n",
      "Epoch 29/100\n",
      "102/102 [==============================] - 0s 2ms/step - loss: 0.8743 - accuracy: 0.6066\n",
      "Epoch 30/100\n",
      "102/102 [==============================] - 0s 2ms/step - loss: 1.1231 - accuracy: 0.5996\n",
      "Epoch 31/100\n",
      "102/102 [==============================] - 0s 2ms/step - loss: 1.3716 - accuracy: 0.5609\n",
      "Epoch 32/100\n",
      "102/102 [==============================] - 0s 2ms/step - loss: 1.1976 - accuracy: 0.5805\n",
      "Epoch 33/100\n",
      "102/102 [==============================] - 0s 2ms/step - loss: 0.8209 - accuracy: 0.5974\n",
      "Epoch 34/100\n",
      "102/102 [==============================] - 0s 2ms/step - loss: 0.8713 - accuracy: 0.5901\n",
      "Epoch 35/100\n",
      "102/102 [==============================] - 0s 2ms/step - loss: 0.9287 - accuracy: 0.5910\n",
      "Epoch 36/100\n",
      "102/102 [==============================] - 0s 2ms/step - loss: 1.3423 - accuracy: 0.5726\n",
      "Epoch 37/100\n",
      "102/102 [==============================] - 0s 2ms/step - loss: 1.1407 - accuracy: 0.5766\n",
      "Epoch 38/100\n",
      "102/102 [==============================] - 0s 2ms/step - loss: 0.9947 - accuracy: 0.5937\n",
      "Epoch 39/100\n",
      "102/102 [==============================] - 0s 2ms/step - loss: 0.9236 - accuracy: 0.6026\n",
      "Epoch 40/100\n",
      "102/102 [==============================] - 0s 2ms/step - loss: 0.8609 - accuracy: 0.6250\n",
      "Epoch 41/100\n",
      "102/102 [==============================] - 0s 2ms/step - loss: 0.7742 - accuracy: 0.6134\n",
      "Epoch 42/100\n",
      "102/102 [==============================] - 0s 2ms/step - loss: 1.5658 - accuracy: 0.5575\n",
      "Epoch 43/100\n",
      "102/102 [==============================] - 0s 2ms/step - loss: 1.0768 - accuracy: 0.5858\n",
      "Epoch 44/100\n",
      "102/102 [==============================] - 0s 2ms/step - loss: 1.0259 - accuracy: 0.5833\n",
      "Epoch 45/100\n",
      "102/102 [==============================] - 0s 2ms/step - loss: 0.8537 - accuracy: 0.6017\n",
      "Epoch 46/100\n",
      "102/102 [==============================] - 0s 2ms/step - loss: 0.8349 - accuracy: 0.6174\n",
      "Epoch 47/100\n",
      "102/102 [==============================] - 0s 2ms/step - loss: 0.8475 - accuracy: 0.6171\n",
      "Epoch 48/100\n",
      "102/102 [==============================] - 0s 2ms/step - loss: 0.7451 - accuracy: 0.6290\n",
      "Epoch 49/100\n",
      "102/102 [==============================] - 0s 2ms/step - loss: 1.0764 - accuracy: 0.5993\n",
      "Epoch 50/100\n",
      "102/102 [==============================] - 0s 2ms/step - loss: 1.0482 - accuracy: 0.5925\n",
      "Epoch 51/100\n",
      "102/102 [==============================] - 0s 3ms/step - loss: 1.2861 - accuracy: 0.5732\n",
      "Epoch 52/100\n",
      "102/102 [==============================] - 0s 2ms/step - loss: 0.8284 - accuracy: 0.6244\n",
      "Epoch 53/100\n",
      "102/102 [==============================] - 0s 2ms/step - loss: 0.8684 - accuracy: 0.6075\n",
      "Epoch 54/100\n",
      "102/102 [==============================] - 0s 2ms/step - loss: 1.2653 - accuracy: 0.5701\n",
      "Epoch 55/100\n",
      "102/102 [==============================] - 0s 2ms/step - loss: 1.7294 - accuracy: 0.5661\n",
      "Epoch 56/100\n",
      "102/102 [==============================] - 0s 2ms/step - loss: 1.1776 - accuracy: 0.5812\n",
      "Epoch 57/100\n",
      "102/102 [==============================] - 0s 2ms/step - loss: 0.7504 - accuracy: 0.6346\n",
      "Epoch 58/100\n",
      "102/102 [==============================] - 0s 2ms/step - loss: 1.1934 - accuracy: 0.5827\n",
      "Epoch 59/100\n",
      "102/102 [==============================] - 0s 2ms/step - loss: 1.0866 - accuracy: 0.5928\n",
      "Epoch 60/100\n",
      "102/102 [==============================] - 0s 2ms/step - loss: 1.6757 - accuracy: 0.5563\n",
      "Epoch 61/100\n",
      "102/102 [==============================] - 0s 2ms/step - loss: 1.0125 - accuracy: 0.5986\n",
      "Epoch 62/100\n",
      "102/102 [==============================] - 0s 2ms/step - loss: 0.9062 - accuracy: 0.6060\n",
      "Epoch 63/100\n",
      "102/102 [==============================] - 0s 2ms/step - loss: 1.0384 - accuracy: 0.6008\n",
      "Epoch 64/100\n",
      "102/102 [==============================] - 0s 2ms/step - loss: 1.0362 - accuracy: 0.6042\n",
      "Epoch 65/100\n",
      "102/102 [==============================] - 0s 2ms/step - loss: 1.2787 - accuracy: 0.5925\n",
      "Epoch 66/100\n",
      "102/102 [==============================] - 0s 2ms/step - loss: 1.3702 - accuracy: 0.5557\n",
      "Epoch 67/100\n",
      "102/102 [==============================] - 0s 2ms/step - loss: 0.7683 - accuracy: 0.6155\n",
      "Epoch 68/100\n",
      "102/102 [==============================] - 0s 2ms/step - loss: 0.9028 - accuracy: 0.6017\n",
      "Epoch 69/100\n",
      "102/102 [==============================] - 0s 2ms/step - loss: 1.0155 - accuracy: 0.5971\n",
      "Epoch 70/100\n",
      "102/102 [==============================] - 0s 2ms/step - loss: 1.0699 - accuracy: 0.5959\n",
      "Epoch 71/100\n",
      "102/102 [==============================] - 0s 1ms/step - loss: 0.8070 - accuracy: 0.6260\n",
      "Epoch 72/100\n",
      "102/102 [==============================] - 0s 2ms/step - loss: 1.0649 - accuracy: 0.5891\n",
      "Epoch 73/100\n",
      "102/102 [==============================] - 0s 2ms/step - loss: 0.9723 - accuracy: 0.5870\n",
      "Epoch 74/100\n",
      "102/102 [==============================] - 0s 1ms/step - loss: 0.9594 - accuracy: 0.6069\n",
      "Epoch 75/100\n",
      "102/102 [==============================] - 0s 1ms/step - loss: 0.7517 - accuracy: 0.6235\n",
      "Epoch 76/100\n",
      "102/102 [==============================] - 0s 2ms/step - loss: 0.8962 - accuracy: 0.6220\n",
      "Epoch 77/100\n",
      "102/102 [==============================] - 0s 2ms/step - loss: 0.8122 - accuracy: 0.6269\n",
      "Epoch 78/100\n",
      "102/102 [==============================] - 0s 2ms/step - loss: 0.7622 - accuracy: 0.6296\n",
      "Epoch 79/100\n",
      "102/102 [==============================] - 0s 1ms/step - loss: 0.7552 - accuracy: 0.6244\n",
      "Epoch 80/100\n",
      "102/102 [==============================] - 0s 2ms/step - loss: 0.8428 - accuracy: 0.6152\n",
      "Epoch 81/100\n",
      "102/102 [==============================] - 0s 1ms/step - loss: 1.0005 - accuracy: 0.5925\n",
      "Epoch 82/100\n",
      "102/102 [==============================] - 0s 2ms/step - loss: 1.1067 - accuracy: 0.5885\n",
      "Epoch 83/100\n",
      "102/102 [==============================] - 0s 1ms/step - loss: 0.7839 - accuracy: 0.6247\n",
      "Epoch 84/100\n",
      "102/102 [==============================] - 0s 2ms/step - loss: 0.8057 - accuracy: 0.6244\n",
      "Epoch 85/100\n",
      "102/102 [==============================] - 0s 2ms/step - loss: 0.9875 - accuracy: 0.6106\n",
      "Epoch 86/100\n",
      "102/102 [==============================] - 0s 2ms/step - loss: 0.8989 - accuracy: 0.6146\n",
      "Epoch 87/100\n",
      "102/102 [==============================] - 0s 2ms/step - loss: 0.9602 - accuracy: 0.5990\n",
      "Epoch 88/100\n",
      "102/102 [==============================] - 0s 2ms/step - loss: 0.9331 - accuracy: 0.6168\n",
      "Epoch 89/100\n",
      "102/102 [==============================] - 0s 2ms/step - loss: 1.1326 - accuracy: 0.6063\n",
      "Epoch 90/100\n",
      "102/102 [==============================] - 0s 2ms/step - loss: 1.1625 - accuracy: 0.6091\n",
      "Epoch 91/100\n",
      "102/102 [==============================] - 0s 2ms/step - loss: 0.8524 - accuracy: 0.6183\n",
      "Epoch 92/100\n",
      "102/102 [==============================] - 0s 2ms/step - loss: 1.0570 - accuracy: 0.6017\n",
      "Epoch 93/100\n",
      "102/102 [==============================] - 0s 1ms/step - loss: 0.7822 - accuracy: 0.6342\n",
      "Epoch 94/100\n",
      "102/102 [==============================] - 0s 2ms/step - loss: 1.0150 - accuracy: 0.5977\n",
      "Epoch 95/100\n",
      "102/102 [==============================] - 0s 1ms/step - loss: 0.8842 - accuracy: 0.6026\n",
      "Epoch 96/100\n",
      "102/102 [==============================] - 0s 2ms/step - loss: 0.7407 - accuracy: 0.6373\n",
      "Epoch 97/100\n",
      "102/102 [==============================] - 0s 2ms/step - loss: 0.8439 - accuracy: 0.6324\n",
      "Epoch 98/100\n",
      "102/102 [==============================] - 0s 2ms/step - loss: 0.8707 - accuracy: 0.6097\n",
      "Epoch 99/100\n",
      "102/102 [==============================] - 0s 1ms/step - loss: 0.8883 - accuracy: 0.6198\n",
      "Epoch 100/100\n",
      "102/102 [==============================] - 0s 2ms/step - loss: 0.8659 - accuracy: 0.6226\n",
      "26/26 [==============================] - 0s 1ms/step - loss: 1.4675 - accuracy: 0.5534\n",
      "[1.4675467014312744, 0.5533742308616638]\n",
      "26/26 [==============================] - 0s 1ms/step\n",
      "Classification report :\n",
      "              precision    recall  f1-score   support\n",
      "\n",
      "           0       0.53      0.96      0.68       408\n",
      "           1       0.79      0.14      0.24       407\n",
      "\n",
      "    accuracy                           0.55       815\n",
      "   macro avg       0.66      0.55      0.46       815\n",
      "weighted avg       0.66      0.55      0.46       815\n",
      "\n"
     ]
    }
   ],
   "source": [
    "y_preds_under = ANN(x_train, y_train, x_test, y_test, 'binary_crossentropy', -1)"
   ]
  },
  {
   "cell_type": "code",
   "execution_count": null,
   "id": "1f124d75-668a-423a-a77a-b5d584fa2dcc",
   "metadata": {},
   "outputs": [],
   "source": []
  },
  {
   "cell_type": "markdown",
   "id": "34e09cbd-ddac-4bcc-a70f-c582da697815",
   "metadata": {},
   "source": [
    "#### Methode 2 : Oversampling of minority class"
   ]
  },
  {
   "cell_type": "code",
   "execution_count": 45,
   "id": "2130f5df-705d-454d-acec-8231ea799041",
   "metadata": {},
   "outputs": [
    {
     "data": {
      "text/plain": [
       "(7963, 2037)"
      ]
     },
     "execution_count": 45,
     "metadata": {},
     "output_type": "execute_result"
    }
   ],
   "source": [
    "count_class_0, count_class_1"
   ]
  },
  {
   "cell_type": "code",
   "execution_count": 46,
   "id": "bed342e2-492c-4f84-be36-b162e3347a01",
   "metadata": {},
   "outputs": [
    {
     "data": {
      "text/plain": [
       "(7963, 14)"
      ]
     },
     "execution_count": 46,
     "metadata": {},
     "output_type": "execute_result"
    }
   ],
   "source": [
    "df_class_1_over = df_class_1.sample(count_class_0, replace=True )\n",
    "df_class_1_over.shape"
   ]
  },
  {
   "cell_type": "code",
   "execution_count": 47,
   "id": "358972f7-22f6-4a33-a3c7-468226d7ef00",
   "metadata": {},
   "outputs": [
    {
     "name": "stdout",
     "output_type": "stream",
     "text": [
      "Random over-sampling :\n",
      "Exited\n",
      "0    7963\n",
      "1    7963\n",
      "Name: count, dtype: int64\n"
     ]
    }
   ],
   "source": [
    "df_test_over = pd.concat([df_class_0, df_class_1_over], axis = 0)\n",
    "print('Random over-sampling :')\n",
    "print(df_test_over.Exited.value_counts())"
   ]
  },
  {
   "cell_type": "code",
   "execution_count": null,
   "id": "cc14e2e7-9233-49bf-adf7-b01231a75ed6",
   "metadata": {},
   "outputs": [],
   "source": []
  },
  {
   "cell_type": "code",
   "execution_count": 48,
   "id": "71cbd86a-4677-49a2-b092-704d4a1a0902",
   "metadata": {},
   "outputs": [],
   "source": [
    "x_over = df_test_over.drop('Exited', axis='columns')\n",
    "y_over = df_test_over['Exited']\n",
    "\n",
    "x_train_over, x_test_over, y_train_over, y_test_over = train_test_split(x_over,y_over, test_size=0.2, random_state=15, stratify = y_over ) # stratify is used to be sure that sample are balanced ( the class distribution is equal ) "
   ]
  },
  {
   "cell_type": "code",
   "execution_count": 49,
   "id": "d1030779-a21d-4610-96f5-95c93f5b6be9",
   "metadata": {},
   "outputs": [
    {
     "name": "stdout",
     "output_type": "stream",
     "text": [
      "Epoch 1/100\n",
      "399/399 [==============================] - 1s 1ms/step - loss: 37.4067 - accuracy: 0.4967\n",
      "Epoch 2/100\n",
      "399/399 [==============================] - 1s 1ms/step - loss: 1.0849 - accuracy: 0.5267\n",
      "Epoch 3/100\n",
      "399/399 [==============================] - 1s 1ms/step - loss: 0.8361 - accuracy: 0.5676\n",
      "Epoch 4/100\n",
      "399/399 [==============================] - 1s 1ms/step - loss: 0.8491 - accuracy: 0.5703\n",
      "Epoch 5/100\n",
      "399/399 [==============================] - 1s 1ms/step - loss: 0.8552 - accuracy: 0.5821\n",
      "Epoch 6/100\n",
      "399/399 [==============================] - 1s 1ms/step - loss: 0.8963 - accuracy: 0.5834\n",
      "Epoch 7/100\n",
      "399/399 [==============================] - 1s 2ms/step - loss: 0.9038 - accuracy: 0.5844\n",
      "Epoch 8/100\n",
      "399/399 [==============================] - 1s 1ms/step - loss: 0.8879 - accuracy: 0.5913\n",
      "Epoch 9/100\n",
      "399/399 [==============================] - 1s 1ms/step - loss: 1.0344 - accuracy: 0.5812\n",
      "Epoch 10/100\n",
      "399/399 [==============================] - 1s 1ms/step - loss: 0.9318 - accuracy: 0.5940\n",
      "Epoch 11/100\n",
      "399/399 [==============================] - 1s 1ms/step - loss: 0.9614 - accuracy: 0.5881\n",
      "Epoch 12/100\n",
      "399/399 [==============================] - 1s 1ms/step - loss: 0.8667 - accuracy: 0.5980\n",
      "Epoch 13/100\n",
      "399/399 [==============================] - 1s 1ms/step - loss: 0.9370 - accuracy: 0.5999\n",
      "Epoch 14/100\n",
      "399/399 [==============================] - 1s 1ms/step - loss: 0.9321 - accuracy: 0.6043\n",
      "Epoch 15/100\n",
      "399/399 [==============================] - 1s 1ms/step - loss: 0.8685 - accuracy: 0.6050\n",
      "Epoch 16/100\n",
      "399/399 [==============================] - 1s 1ms/step - loss: 0.8521 - accuracy: 0.6042\n",
      "Epoch 17/100\n",
      "399/399 [==============================] - 1s 1ms/step - loss: 0.8428 - accuracy: 0.6093\n",
      "Epoch 18/100\n",
      "399/399 [==============================] - 1s 1ms/step - loss: 0.9243 - accuracy: 0.6037\n",
      "Epoch 19/100\n",
      "399/399 [==============================] - 1s 1ms/step - loss: 0.8658 - accuracy: 0.6164\n",
      "Epoch 20/100\n",
      "399/399 [==============================] - 1s 1ms/step - loss: 1.0076 - accuracy: 0.6010\n",
      "Epoch 21/100\n",
      "399/399 [==============================] - 1s 1ms/step - loss: 0.8254 - accuracy: 0.6126\n",
      "Epoch 22/100\n",
      "399/399 [==============================] - 1s 1ms/step - loss: 0.8073 - accuracy: 0.6132\n",
      "Epoch 23/100\n",
      "399/399 [==============================] - 1s 1ms/step - loss: 0.8514 - accuracy: 0.6120\n",
      "Epoch 24/100\n",
      "399/399 [==============================] - 1s 1ms/step - loss: 0.9046 - accuracy: 0.6180\n",
      "Epoch 25/100\n",
      "399/399 [==============================] - 1s 1ms/step - loss: 0.8853 - accuracy: 0.6147\n",
      "Epoch 26/100\n",
      "399/399 [==============================] - 1s 1ms/step - loss: 0.8083 - accuracy: 0.6177\n",
      "Epoch 27/100\n",
      "399/399 [==============================] - 1s 1ms/step - loss: 0.9035 - accuracy: 0.6060\n",
      "Epoch 28/100\n",
      "399/399 [==============================] - 1s 1ms/step - loss: 0.7658 - accuracy: 0.6296\n",
      "Epoch 29/100\n",
      "399/399 [==============================] - 1s 1ms/step - loss: 1.1308 - accuracy: 0.6004\n",
      "Epoch 30/100\n",
      "399/399 [==============================] - 1s 1ms/step - loss: 0.7574 - accuracy: 0.6361\n",
      "Epoch 31/100\n",
      "399/399 [==============================] - 1s 1ms/step - loss: 0.8565 - accuracy: 0.6104\n",
      "Epoch 32/100\n",
      "399/399 [==============================] - 1s 1ms/step - loss: 0.8839 - accuracy: 0.6194\n",
      "Epoch 33/100\n",
      "399/399 [==============================] - 1s 1ms/step - loss: 0.9303 - accuracy: 0.6150\n",
      "Epoch 34/100\n",
      "399/399 [==============================] - 1s 1ms/step - loss: 0.8979 - accuracy: 0.6162\n",
      "Epoch 35/100\n",
      "399/399 [==============================] - 1s 1ms/step - loss: 0.9232 - accuracy: 0.6111\n",
      "Epoch 36/100\n",
      "399/399 [==============================] - 1s 1ms/step - loss: 0.8021 - accuracy: 0.6305\n",
      "Epoch 37/100\n",
      "399/399 [==============================] - 1s 1ms/step - loss: 0.8382 - accuracy: 0.6268\n",
      "Epoch 38/100\n",
      "399/399 [==============================] - 1s 1ms/step - loss: 0.8815 - accuracy: 0.6225\n",
      "Epoch 39/100\n",
      "399/399 [==============================] - 1s 1ms/step - loss: 0.9432 - accuracy: 0.6147\n",
      "Epoch 40/100\n",
      "399/399 [==============================] - 1s 2ms/step - loss: 0.8606 - accuracy: 0.6178\n",
      "Epoch 41/100\n",
      "399/399 [==============================] - 1s 2ms/step - loss: 0.8353 - accuracy: 0.6185\n",
      "Epoch 42/100\n",
      "399/399 [==============================] - 1s 3ms/step - loss: 0.7237 - accuracy: 0.6441\n",
      "Epoch 43/100\n",
      "399/399 [==============================] - 1s 2ms/step - loss: 1.0100 - accuracy: 0.6130\n",
      "Epoch 44/100\n",
      "399/399 [==============================] - 1s 2ms/step - loss: 0.8758 - accuracy: 0.6263\n",
      "Epoch 45/100\n",
      "399/399 [==============================] - 1s 2ms/step - loss: 0.9087 - accuracy: 0.6239\n",
      "Epoch 46/100\n",
      "399/399 [==============================] - 1s 2ms/step - loss: 0.8897 - accuracy: 0.6222\n",
      "Epoch 47/100\n",
      "399/399 [==============================] - 1s 2ms/step - loss: 0.7558 - accuracy: 0.6403\n",
      "Epoch 48/100\n",
      "399/399 [==============================] - 1s 2ms/step - loss: 0.8004 - accuracy: 0.6286\n",
      "Epoch 49/100\n",
      "399/399 [==============================] - 1s 2ms/step - loss: 0.8428 - accuracy: 0.6293\n",
      "Epoch 50/100\n",
      "399/399 [==============================] - 1s 2ms/step - loss: 0.8380 - accuracy: 0.6314\n",
      "Epoch 51/100\n",
      "399/399 [==============================] - 1s 2ms/step - loss: 0.9399 - accuracy: 0.6210\n",
      "Epoch 52/100\n",
      "399/399 [==============================] - 1s 2ms/step - loss: 0.9151 - accuracy: 0.6174\n",
      "Epoch 53/100\n",
      "399/399 [==============================] - 1s 2ms/step - loss: 0.7810 - accuracy: 0.6406\n",
      "Epoch 54/100\n",
      "399/399 [==============================] - 1s 2ms/step - loss: 0.8721 - accuracy: 0.6158\n",
      "Epoch 55/100\n",
      "399/399 [==============================] - 1s 2ms/step - loss: 0.7768 - accuracy: 0.6400\n",
      "Epoch 56/100\n",
      "399/399 [==============================] - 1s 2ms/step - loss: 0.7781 - accuracy: 0.6378\n",
      "Epoch 57/100\n",
      "399/399 [==============================] - 1s 2ms/step - loss: 0.8018 - accuracy: 0.6341\n",
      "Epoch 58/100\n",
      "399/399 [==============================] - 1s 2ms/step - loss: 0.9341 - accuracy: 0.6152\n",
      "Epoch 59/100\n",
      "399/399 [==============================] - 1s 2ms/step - loss: 0.7912 - accuracy: 0.6395\n",
      "Epoch 60/100\n",
      "399/399 [==============================] - 1s 2ms/step - loss: 0.8070 - accuracy: 0.6333\n",
      "Epoch 61/100\n",
      "399/399 [==============================] - 1s 2ms/step - loss: 0.8004 - accuracy: 0.6411\n",
      "Epoch 62/100\n",
      "399/399 [==============================] - 1s 2ms/step - loss: 0.7714 - accuracy: 0.6451\n",
      "Epoch 63/100\n",
      "399/399 [==============================] - 1s 2ms/step - loss: 0.8506 - accuracy: 0.6306\n",
      "Epoch 64/100\n",
      "399/399 [==============================] - 1s 2ms/step - loss: 0.7346 - accuracy: 0.6499\n",
      "Epoch 65/100\n",
      "399/399 [==============================] - 1s 2ms/step - loss: 0.7805 - accuracy: 0.6378\n",
      "Epoch 66/100\n",
      "399/399 [==============================] - 1s 2ms/step - loss: 0.8755 - accuracy: 0.6268\n",
      "Epoch 67/100\n",
      "399/399 [==============================] - 1s 2ms/step - loss: 0.7341 - accuracy: 0.6516\n",
      "Epoch 68/100\n",
      "399/399 [==============================] - 1s 2ms/step - loss: 0.8391 - accuracy: 0.6354\n",
      "Epoch 69/100\n",
      "399/399 [==============================] - 1s 2ms/step - loss: 0.7532 - accuracy: 0.6462\n",
      "Epoch 70/100\n",
      "399/399 [==============================] - 1s 2ms/step - loss: 0.8396 - accuracy: 0.6449\n",
      "Epoch 71/100\n",
      "399/399 [==============================] - 1s 2ms/step - loss: 0.8093 - accuracy: 0.6246\n",
      "Epoch 72/100\n",
      "399/399 [==============================] - 1s 2ms/step - loss: 0.8855 - accuracy: 0.6229\n",
      "Epoch 73/100\n",
      "399/399 [==============================] - 1s 2ms/step - loss: 0.8847 - accuracy: 0.6276\n",
      "Epoch 74/100\n",
      "399/399 [==============================] - 1s 2ms/step - loss: 0.8294 - accuracy: 0.6349\n",
      "Epoch 75/100\n",
      "399/399 [==============================] - 1s 2ms/step - loss: 0.7261 - accuracy: 0.6504\n",
      "Epoch 76/100\n",
      "399/399 [==============================] - 1s 2ms/step - loss: 0.8513 - accuracy: 0.6339\n",
      "Epoch 77/100\n",
      "399/399 [==============================] - 1s 2ms/step - loss: 0.7581 - accuracy: 0.6476\n",
      "Epoch 78/100\n",
      "399/399 [==============================] - 1s 2ms/step - loss: 0.7447 - accuracy: 0.6486\n",
      "Epoch 79/100\n",
      "399/399 [==============================] - 1s 2ms/step - loss: 0.8998 - accuracy: 0.6215\n",
      "Epoch 80/100\n",
      "399/399 [==============================] - 1s 2ms/step - loss: 0.8316 - accuracy: 0.6392\n",
      "Epoch 81/100\n",
      "399/399 [==============================] - 1s 2ms/step - loss: 0.7487 - accuracy: 0.6509\n",
      "Epoch 82/100\n",
      "399/399 [==============================] - 1s 2ms/step - loss: 0.7619 - accuracy: 0.6454\n",
      "Epoch 83/100\n",
      "399/399 [==============================] - 1s 2ms/step - loss: 1.0750 - accuracy: 0.6219\n",
      "Epoch 84/100\n",
      "399/399 [==============================] - 1s 2ms/step - loss: 0.7592 - accuracy: 0.6488\n",
      "Epoch 85/100\n",
      "399/399 [==============================] - 1s 2ms/step - loss: 0.8549 - accuracy: 0.6320\n",
      "Epoch 86/100\n",
      "399/399 [==============================] - 1s 2ms/step - loss: 0.7344 - accuracy: 0.6498\n",
      "Epoch 87/100\n",
      "399/399 [==============================] - 1s 2ms/step - loss: 0.8057 - accuracy: 0.6436\n",
      "Epoch 88/100\n",
      "399/399 [==============================] - 1s 2ms/step - loss: 0.8475 - accuracy: 0.6320\n",
      "Epoch 89/100\n",
      "399/399 [==============================] - 1s 2ms/step - loss: 0.8008 - accuracy: 0.6421\n",
      "Epoch 90/100\n",
      "399/399 [==============================] - 1s 2ms/step - loss: 0.8494 - accuracy: 0.6462\n",
      "Epoch 91/100\n",
      "399/399 [==============================] - 1s 2ms/step - loss: 0.8673 - accuracy: 0.6291\n",
      "Epoch 92/100\n",
      "399/399 [==============================] - 1s 2ms/step - loss: 0.7357 - accuracy: 0.6570\n",
      "Epoch 93/100\n",
      "399/399 [==============================] - 1s 2ms/step - loss: 0.8470 - accuracy: 0.6392\n",
      "Epoch 94/100\n",
      "399/399 [==============================] - 1s 2ms/step - loss: 0.8649 - accuracy: 0.6304\n",
      "Epoch 95/100\n",
      "399/399 [==============================] - 1s 2ms/step - loss: 0.7646 - accuracy: 0.6457\n",
      "Epoch 96/100\n",
      "399/399 [==============================] - 1s 2ms/step - loss: 0.8365 - accuracy: 0.6441\n",
      "Epoch 97/100\n",
      "399/399 [==============================] - 1s 2ms/step - loss: 0.9062 - accuracy: 0.6329\n",
      "Epoch 98/100\n",
      "399/399 [==============================] - 1s 2ms/step - loss: 0.8540 - accuracy: 0.6289\n",
      "Epoch 99/100\n",
      "399/399 [==============================] - 1s 2ms/step - loss: 0.8936 - accuracy: 0.6343\n",
      "Epoch 100/100\n",
      "399/399 [==============================] - 1s 2ms/step - loss: 0.7124 - accuracy: 0.6592\n",
      "100/100 [==============================] - 0s 2ms/step - loss: 0.6896 - accuracy: 0.6610\n",
      "[0.6896283030509949, 0.6610169410705566]\n",
      "100/100 [==============================] - 0s 1ms/step\n",
      "Classification report :\n",
      "              precision    recall  f1-score   support\n",
      "\n",
      "           0       0.61      0.88      0.72      1593\n",
      "           1       0.79      0.44      0.57      1593\n",
      "\n",
      "    accuracy                           0.66      3186\n",
      "   macro avg       0.70      0.66      0.64      3186\n",
      "weighted avg       0.70      0.66      0.64      3186\n",
      "\n"
     ]
    }
   ],
   "source": [
    "y_preds_over = ANN(x_train_over, y_train_over, x_test_over, y_test_over, 'binary_crossentropy', -1)"
   ]
  },
  {
   "cell_type": "markdown",
   "id": "a623c9cf-b654-40b8-b13b-4b835ecd0e6f",
   "metadata": {},
   "source": [
    "#### Methode 3 : SMOTE (Synthetic Minority Over-sampling Technique) - (K-NN )"
   ]
  },
  {
   "cell_type": "code",
   "execution_count": 50,
   "id": "a7a253d5-3a23-47e1-83f0-3069a8867f0e",
   "metadata": {},
   "outputs": [],
   "source": [
    "x_for_smote = df2.drop('Exited', axis='columns')\n",
    "y_for_smote = df2['Exited']"
   ]
  },
  {
   "cell_type": "code",
   "execution_count": 51,
   "id": "ba5c49ee-40ed-4db5-a08a-e557f68b138b",
   "metadata": {},
   "outputs": [
    {
     "data": {
      "text/plain": [
       "Exited\n",
       "0    7963\n",
       "1    2037\n",
       "Name: count, dtype: int64"
      ]
     },
     "execution_count": 51,
     "metadata": {},
     "output_type": "execute_result"
    }
   ],
   "source": [
    "y_for_smote.value_counts()"
   ]
  },
  {
   "cell_type": "code",
   "execution_count": 52,
   "id": "07039365-9392-4a12-a8ea-34c942ca797a",
   "metadata": {},
   "outputs": [],
   "source": [
    "### SMOTE needs to be installed using :\n",
    "# "
   ]
  },
  {
   "cell_type": "code",
   "execution_count": 53,
   "id": "aa4f4da7-1611-4ba7-b5ff-a3922b1dfa03",
   "metadata": {},
   "outputs": [],
   "source": [
    "from imblearn.over_sampling import SMOTE "
   ]
  },
  {
   "cell_type": "code",
   "execution_count": 54,
   "id": "b40c3a76-a8e1-4b95-8f51-e0d22f7a5073",
   "metadata": {},
   "outputs": [
    {
     "data": {
      "text/plain": [
       "Exited\n",
       "1    7963\n",
       "0    7963\n",
       "Name: count, dtype: int64"
      ]
     },
     "execution_count": 54,
     "metadata": {},
     "output_type": "execute_result"
    }
   ],
   "source": [
    "smote = SMOTE(sampling_strategy='minority')\n",
    "x_sm, y_sm = smote.fit_resample(x_for_smote, y_for_smote)\n",
    "\n",
    "y_sm.value_counts()"
   ]
  },
  {
   "cell_type": "code",
   "execution_count": 55,
   "id": "7cc02b15-a6c3-4b5e-b22a-94be40ea8c4d",
   "metadata": {},
   "outputs": [
    {
     "data": {
      "text/plain": [
       "Exited\n",
       "1    7963\n",
       "0    7963\n",
       "Name: count, dtype: int64"
      ]
     },
     "execution_count": 55,
     "metadata": {},
     "output_type": "execute_result"
    }
   ],
   "source": [
    "smote = SMOTE(sampling_strategy='minority')\n",
    "x_sm, y_sm = smote.fit_resample(x_for_smote, y_for_smote)\n",
    "\n",
    "y_sm.value_counts()"
   ]
  },
  {
   "cell_type": "code",
   "execution_count": 56,
   "id": "fc7b70db-561e-4894-a756-cb47b5ed2415",
   "metadata": {},
   "outputs": [],
   "source": [
    "x_train_sm, x_test_sm, y_train_sm, y_test_sm = train_test_split(x_sm,y_sm, test_size=0.2, random_state=15, stratify = y_sm )"
   ]
  },
  {
   "cell_type": "code",
   "execution_count": 57,
   "id": "0cdfc674-e212-44e8-bdab-e550ee3a8567",
   "metadata": {},
   "outputs": [
    {
     "data": {
      "text/plain": [
       "Exited\n",
       "0    6370\n",
       "1    6370\n",
       "Name: count, dtype: int64"
      ]
     },
     "execution_count": 57,
     "metadata": {},
     "output_type": "execute_result"
    }
   ],
   "source": [
    "y_train_sm.value_counts()"
   ]
  },
  {
   "cell_type": "code",
   "execution_count": 58,
   "id": "250c4952-f562-4523-a180-027b8015d5b0",
   "metadata": {},
   "outputs": [
    {
     "data": {
      "text/plain": [
       "Exited\n",
       "0    1593\n",
       "1    1593\n",
       "Name: count, dtype: int64"
      ]
     },
     "execution_count": 58,
     "metadata": {},
     "output_type": "execute_result"
    }
   ],
   "source": [
    "y_test_sm.value_counts()"
   ]
  },
  {
   "cell_type": "code",
   "execution_count": 59,
   "id": "dd3a194e-7521-48f6-bbe1-3cdf0413cdec",
   "metadata": {},
   "outputs": [
    {
     "name": "stdout",
     "output_type": "stream",
     "text": [
      "Epoch 1/100\n",
      "399/399 [==============================] - 1s 2ms/step - loss: 89.8174 - accuracy: 0.4972\n",
      "Epoch 2/100\n",
      "399/399 [==============================] - 1s 2ms/step - loss: 1.0042 - accuracy: 0.5447\n",
      "Epoch 3/100\n",
      "399/399 [==============================] - 1s 2ms/step - loss: 0.9083 - accuracy: 0.5977\n",
      "Epoch 4/100\n",
      "399/399 [==============================] - 1s 2ms/step - loss: 0.9191 - accuracy: 0.6172\n",
      "Epoch 5/100\n",
      "399/399 [==============================] - 1s 2ms/step - loss: 0.6777 - accuracy: 0.6775\n",
      "Epoch 6/100\n",
      "399/399 [==============================] - 1s 2ms/step - loss: 0.7087 - accuracy: 0.6765\n",
      "Epoch 7/100\n",
      "399/399 [==============================] - 1s 2ms/step - loss: 0.8554 - accuracy: 0.6548\n",
      "Epoch 8/100\n",
      "399/399 [==============================] - 1s 2ms/step - loss: 0.7501 - accuracy: 0.6790\n",
      "Epoch 9/100\n",
      "399/399 [==============================] - 1s 2ms/step - loss: 0.7602 - accuracy: 0.6867\n",
      "Epoch 10/100\n",
      "399/399 [==============================] - 1s 2ms/step - loss: 0.6672 - accuracy: 0.7028\n",
      "Epoch 11/100\n",
      "399/399 [==============================] - 1s 2ms/step - loss: 0.8342 - accuracy: 0.6866\n",
      "Epoch 12/100\n",
      "399/399 [==============================] - 1s 2ms/step - loss: 0.7412 - accuracy: 0.7042\n",
      "Epoch 13/100\n",
      "399/399 [==============================] - 1s 2ms/step - loss: 0.6396 - accuracy: 0.7228\n",
      "Epoch 14/100\n",
      "399/399 [==============================] - 1s 2ms/step - loss: 0.7275 - accuracy: 0.7013\n",
      "Epoch 15/100\n",
      "399/399 [==============================] - 1s 2ms/step - loss: 0.8057 - accuracy: 0.6983\n",
      "Epoch 16/100\n",
      "399/399 [==============================] - 1s 2ms/step - loss: 0.5768 - accuracy: 0.7438\n",
      "Epoch 17/100\n",
      "399/399 [==============================] - 1s 2ms/step - loss: 0.6913 - accuracy: 0.7186\n",
      "Epoch 18/100\n",
      "399/399 [==============================] - 1s 2ms/step - loss: 0.6576 - accuracy: 0.7294\n",
      "Epoch 19/100\n",
      "399/399 [==============================] - 1s 2ms/step - loss: 0.6355 - accuracy: 0.7364\n",
      "Epoch 20/100\n",
      "399/399 [==============================] - 1s 2ms/step - loss: 0.6104 - accuracy: 0.7407\n",
      "Epoch 21/100\n",
      "399/399 [==============================] - 1s 2ms/step - loss: 0.8081 - accuracy: 0.7016\n",
      "Epoch 22/100\n",
      "399/399 [==============================] - 1s 2ms/step - loss: 0.6093 - accuracy: 0.7470\n",
      "Epoch 23/100\n",
      "399/399 [==============================] - 1s 2ms/step - loss: 0.6217 - accuracy: 0.7403\n",
      "Epoch 24/100\n",
      "399/399 [==============================] - 1s 2ms/step - loss: 0.7644 - accuracy: 0.7171\n",
      "Epoch 25/100\n",
      "399/399 [==============================] - 1s 2ms/step - loss: 0.6260 - accuracy: 0.7433\n",
      "Epoch 26/100\n",
      "399/399 [==============================] - 1s 2ms/step - loss: 0.6864 - accuracy: 0.7318\n",
      "Epoch 27/100\n",
      "399/399 [==============================] - 1s 2ms/step - loss: 0.6026 - accuracy: 0.7460\n",
      "Epoch 28/100\n",
      "399/399 [==============================] - 1s 2ms/step - loss: 0.7908 - accuracy: 0.7090\n",
      "Epoch 29/100\n",
      "399/399 [==============================] - 1s 2ms/step - loss: 0.6616 - accuracy: 0.7365\n",
      "Epoch 30/100\n",
      "399/399 [==============================] - 1s 2ms/step - loss: 0.7535 - accuracy: 0.7178\n",
      "Epoch 31/100\n",
      "399/399 [==============================] - 1s 2ms/step - loss: 0.5730 - accuracy: 0.7560\n",
      "Epoch 32/100\n",
      "399/399 [==============================] - 1s 2ms/step - loss: 0.6995 - accuracy: 0.7418\n",
      "Epoch 33/100\n",
      "399/399 [==============================] - 1s 2ms/step - loss: 0.6246 - accuracy: 0.7491\n",
      "Epoch 34/100\n",
      "399/399 [==============================] - 1s 2ms/step - loss: 0.5918 - accuracy: 0.7586\n",
      "Epoch 35/100\n",
      "399/399 [==============================] - 1s 2ms/step - loss: 0.7092 - accuracy: 0.7271\n",
      "Epoch 36/100\n",
      "399/399 [==============================] - 1s 2ms/step - loss: 0.9263 - accuracy: 0.7225\n",
      "Epoch 37/100\n",
      "399/399 [==============================] - 1s 2ms/step - loss: 0.6251 - accuracy: 0.7505\n",
      "Epoch 38/100\n",
      "399/399 [==============================] - 1s 2ms/step - loss: 0.6232 - accuracy: 0.7528\n",
      "Epoch 39/100\n",
      "399/399 [==============================] - 1s 2ms/step - loss: 0.5724 - accuracy: 0.7589\n",
      "Epoch 40/100\n",
      "399/399 [==============================] - 1s 2ms/step - loss: 0.5846 - accuracy: 0.7632\n",
      "Epoch 41/100\n",
      "399/399 [==============================] - 1s 2ms/step - loss: 0.6043 - accuracy: 0.7575\n",
      "Epoch 42/100\n",
      "399/399 [==============================] - 1s 2ms/step - loss: 0.6433 - accuracy: 0.7451\n",
      "Epoch 43/100\n",
      "399/399 [==============================] - 1s 2ms/step - loss: 0.7586 - accuracy: 0.7343\n",
      "Epoch 44/100\n",
      "399/399 [==============================] - 1s 2ms/step - loss: 0.6764 - accuracy: 0.7487\n",
      "Epoch 45/100\n",
      "399/399 [==============================] - 1s 2ms/step - loss: 0.7112 - accuracy: 0.7389\n",
      "Epoch 46/100\n",
      "399/399 [==============================] - 1s 2ms/step - loss: 0.5916 - accuracy: 0.7587\n",
      "Epoch 47/100\n",
      "399/399 [==============================] - 1s 2ms/step - loss: 0.6489 - accuracy: 0.7476\n",
      "Epoch 48/100\n",
      "399/399 [==============================] - 1s 2ms/step - loss: 0.5679 - accuracy: 0.7627\n",
      "Epoch 49/100\n",
      "399/399 [==============================] - 1s 2ms/step - loss: 0.6450 - accuracy: 0.7528\n",
      "Epoch 50/100\n",
      "399/399 [==============================] - 1s 2ms/step - loss: 0.5894 - accuracy: 0.7618\n",
      "Epoch 51/100\n",
      "399/399 [==============================] - 1s 2ms/step - loss: 0.6178 - accuracy: 0.7542\n",
      "Epoch 52/100\n",
      "399/399 [==============================] - 1s 2ms/step - loss: 0.6399 - accuracy: 0.7527\n",
      "Epoch 53/100\n",
      "399/399 [==============================] - 1s 2ms/step - loss: 0.5852 - accuracy: 0.7621\n",
      "Epoch 54/100\n",
      "399/399 [==============================] - 1s 2ms/step - loss: 0.6048 - accuracy: 0.7568\n",
      "Epoch 55/100\n",
      "399/399 [==============================] - 1s 2ms/step - loss: 0.6291 - accuracy: 0.7501\n",
      "Epoch 56/100\n",
      "399/399 [==============================] - 1s 2ms/step - loss: 0.6685 - accuracy: 0.7454\n",
      "Epoch 57/100\n",
      "399/399 [==============================] - 1s 2ms/step - loss: 0.7662 - accuracy: 0.7411\n",
      "Epoch 58/100\n",
      "399/399 [==============================] - 1s 2ms/step - loss: 0.7678 - accuracy: 0.7394\n",
      "Epoch 59/100\n",
      "399/399 [==============================] - 1s 2ms/step - loss: 0.6477 - accuracy: 0.7516\n",
      "Epoch 60/100\n",
      "399/399 [==============================] - 1s 2ms/step - loss: 0.5553 - accuracy: 0.7722\n",
      "Epoch 61/100\n",
      "399/399 [==============================] - 1s 2ms/step - loss: 0.5996 - accuracy: 0.7644\n",
      "Epoch 62/100\n",
      "399/399 [==============================] - 1s 2ms/step - loss: 0.6521 - accuracy: 0.7527\n",
      "Epoch 63/100\n",
      "399/399 [==============================] - 1s 2ms/step - loss: 0.5768 - accuracy: 0.7672\n",
      "Epoch 64/100\n",
      "399/399 [==============================] - 1s 2ms/step - loss: 0.6105 - accuracy: 0.7626\n",
      "Epoch 65/100\n",
      "399/399 [==============================] - 1s 2ms/step - loss: 0.6446 - accuracy: 0.7564\n",
      "Epoch 66/100\n",
      "399/399 [==============================] - 1s 2ms/step - loss: 0.6511 - accuracy: 0.7499\n",
      "Epoch 67/100\n",
      "399/399 [==============================] - 1s 2ms/step - loss: 0.6702 - accuracy: 0.7487\n",
      "Epoch 68/100\n",
      "399/399 [==============================] - 1s 2ms/step - loss: 0.5915 - accuracy: 0.7623\n",
      "Epoch 69/100\n",
      "399/399 [==============================] - 1s 2ms/step - loss: 0.6459 - accuracy: 0.7575\n",
      "Epoch 70/100\n",
      "399/399 [==============================] - 1s 2ms/step - loss: 0.5973 - accuracy: 0.7637\n",
      "Epoch 71/100\n",
      "399/399 [==============================] - 1s 2ms/step - loss: 0.6160 - accuracy: 0.7633\n",
      "Epoch 72/100\n",
      "399/399 [==============================] - 1s 2ms/step - loss: 0.6697 - accuracy: 0.7568\n",
      "Epoch 73/100\n",
      "399/399 [==============================] - 1s 2ms/step - loss: 0.6237 - accuracy: 0.7630\n",
      "Epoch 74/100\n",
      "399/399 [==============================] - 1s 2ms/step - loss: 0.6385 - accuracy: 0.7565\n",
      "Epoch 75/100\n",
      "399/399 [==============================] - 1s 2ms/step - loss: 0.5920 - accuracy: 0.7599\n",
      "Epoch 76/100\n",
      "399/399 [==============================] - 1s 2ms/step - loss: 0.5519 - accuracy: 0.7721\n",
      "Epoch 77/100\n",
      "399/399 [==============================] - 1s 2ms/step - loss: 0.6227 - accuracy: 0.7619\n",
      "Epoch 78/100\n",
      "399/399 [==============================] - 1s 2ms/step - loss: 0.6548 - accuracy: 0.7508\n",
      "Epoch 79/100\n",
      "399/399 [==============================] - 1s 2ms/step - loss: 0.6023 - accuracy: 0.7615\n",
      "Epoch 80/100\n",
      "399/399 [==============================] - 1s 2ms/step - loss: 0.7146 - accuracy: 0.7493\n",
      "Epoch 81/100\n",
      "399/399 [==============================] - 1s 2ms/step - loss: 0.5783 - accuracy: 0.7698\n",
      "Epoch 82/100\n",
      "399/399 [==============================] - 1s 2ms/step - loss: 0.5555 - accuracy: 0.7727\n",
      "Epoch 83/100\n",
      "399/399 [==============================] - 1s 2ms/step - loss: 0.6440 - accuracy: 0.7614\n",
      "Epoch 84/100\n",
      "399/399 [==============================] - 1s 2ms/step - loss: 0.6265 - accuracy: 0.7604\n",
      "Epoch 85/100\n",
      "399/399 [==============================] - 1s 2ms/step - loss: 0.6165 - accuracy: 0.7589\n",
      "Epoch 86/100\n",
      "399/399 [==============================] - 1s 2ms/step - loss: 0.6266 - accuracy: 0.7644\n",
      "Epoch 87/100\n",
      "399/399 [==============================] - 1s 2ms/step - loss: 0.5361 - accuracy: 0.7775\n",
      "Epoch 88/100\n",
      "399/399 [==============================] - 1s 2ms/step - loss: 0.6245 - accuracy: 0.7557\n",
      "Epoch 89/100\n",
      "399/399 [==============================] - 1s 2ms/step - loss: 0.5254 - accuracy: 0.7794\n",
      "Epoch 90/100\n",
      "399/399 [==============================] - 1s 2ms/step - loss: 0.6616 - accuracy: 0.7611\n",
      "Epoch 91/100\n",
      "399/399 [==============================] - 1s 2ms/step - loss: 0.6371 - accuracy: 0.7611\n",
      "Epoch 92/100\n",
      "399/399 [==============================] - 1s 2ms/step - loss: 0.5639 - accuracy: 0.7726\n",
      "Epoch 93/100\n",
      "399/399 [==============================] - 1s 2ms/step - loss: 0.6728 - accuracy: 0.7565\n",
      "Epoch 94/100\n",
      "399/399 [==============================] - 1s 2ms/step - loss: 0.6639 - accuracy: 0.7533\n",
      "Epoch 95/100\n",
      "399/399 [==============================] - 1s 2ms/step - loss: 0.6132 - accuracy: 0.7666\n",
      "Epoch 96/100\n",
      "399/399 [==============================] - 1s 2ms/step - loss: 0.8414 - accuracy: 0.7372\n",
      "Epoch 97/100\n",
      "399/399 [==============================] - 1s 2ms/step - loss: 0.6652 - accuracy: 0.7629\n",
      "Epoch 98/100\n",
      "399/399 [==============================] - 1s 2ms/step - loss: 0.5739 - accuracy: 0.7729\n",
      "Epoch 99/100\n",
      "399/399 [==============================] - 1s 2ms/step - loss: 0.7178 - accuracy: 0.7566\n",
      "Epoch 100/100\n",
      "399/399 [==============================] - 1s 2ms/step - loss: 0.6054 - accuracy: 0.7618\n",
      "100/100 [==============================] - 0s 2ms/step - loss: 0.8712 - accuracy: 0.7464\n",
      "[0.8712310194969177, 0.7463904619216919]\n",
      "100/100 [==============================] - 0s 1ms/step\n",
      "Classification report :\n",
      "              precision    recall  f1-score   support\n",
      "\n",
      "           0       0.67      0.98      0.79      1593\n",
      "           1       0.96      0.52      0.67      1593\n",
      "\n",
      "    accuracy                           0.75      3186\n",
      "   macro avg       0.81      0.75      0.73      3186\n",
      "weighted avg       0.81      0.75      0.73      3186\n",
      "\n"
     ]
    }
   ],
   "source": [
    "y_preds_sm = ANN(x_train_sm, y_train_sm, x_test_sm, y_test_sm, 'binary_crossentropy', -1)"
   ]
  },
  {
   "cell_type": "code",
   "execution_count": null,
   "id": "4b661577-b0f3-43e4-8cd2-9dd2e94e3c96",
   "metadata": {},
   "outputs": [],
   "source": []
  },
  {
   "cell_type": "markdown",
   "id": "ff72bb00-5b2a-4274-a71e-221697f9b012",
   "metadata": {},
   "source": [
    "#### Methode 4 : Use of Ensemble with undersampling"
   ]
  },
  {
   "cell_type": "code",
   "execution_count": 60,
   "id": "ce593c94-6d5c-4781-bb9a-1ba134dac042",
   "metadata": {},
   "outputs": [
    {
     "data": {
      "text/plain": [
       "Exited\n",
       "0    7963\n",
       "1    2037\n",
       "Name: count, dtype: int64"
      ]
     },
     "execution_count": 60,
     "metadata": {},
     "output_type": "execute_result"
    }
   ],
   "source": [
    "df2.Exited.value_counts()"
   ]
  },
  {
   "cell_type": "code",
   "execution_count": 61,
   "id": "2a4fea09-a3af-4fc2-af40-1c2483e7e04f",
   "metadata": {},
   "outputs": [],
   "source": [
    "x_ens = df2.drop('Exited', axis='columns')\n",
    "y_ens = df2['Exited']"
   ]
  },
  {
   "cell_type": "code",
   "execution_count": 62,
   "id": "b664a018-b803-4456-9bd7-90e7aebbc7ab",
   "metadata": {},
   "outputs": [],
   "source": [
    "x_train_ens, x_test_ens, y_train_ens, y_test_ens = train_test_split(x_ens,y_ens, test_size=0.2, random_state=15, stratify = y_ens ) "
   ]
  },
  {
   "cell_type": "code",
   "execution_count": 63,
   "id": "717ec1ca-6acb-4518-bd56-9876b2207ce0",
   "metadata": {},
   "outputs": [
    {
     "data": {
      "text/plain": [
       "Exited\n",
       "0    6370\n",
       "1    1630\n",
       "Name: count, dtype: int64"
      ]
     },
     "execution_count": 63,
     "metadata": {},
     "output_type": "execute_result"
    }
   ],
   "source": [
    "y_train_ens.value_counts()"
   ]
  },
  {
   "cell_type": "code",
   "execution_count": 64,
   "id": "ec9b1d53-18f3-458a-b665-01d0ad3668e9",
   "metadata": {},
   "outputs": [
    {
     "data": {
      "text/plain": [
       "3.9079754601226995"
      ]
     },
     "execution_count": 64,
     "metadata": {},
     "output_type": "execute_result"
    }
   ],
   "source": [
    "6370/1630"
   ]
  },
  {
   "cell_type": "code",
   "execution_count": 65,
   "id": "6e186b3a-22bb-442d-b0d6-abed4f8b8738",
   "metadata": {},
   "outputs": [
    {
     "data": {
      "text/plain": [
       "1592.5"
      ]
     },
     "execution_count": 65,
     "metadata": {},
     "output_type": "execute_result"
    }
   ],
   "source": [
    "6370/4 # we'll make 4 batches of class_0"
   ]
  },
  {
   "cell_type": "code",
   "execution_count": 66,
   "id": "2f37337a-6c5c-4908-a2dc-56144e9b94a0",
   "metadata": {},
   "outputs": [],
   "source": [
    "df3 = x_train_ens.copy()\n",
    "df3['Exited'] = y_train_ens\n",
    "\n",
    "df3_class_0 = df3[df3['Exited'] == 0]\n",
    "df3_class_1 = df3[df3['Exited'] == 1]"
   ]
  },
  {
   "cell_type": "code",
   "execution_count": 67,
   "id": "d9e81692-6cef-47e7-9d8a-83f163cca36e",
   "metadata": {},
   "outputs": [
    {
     "data": {
      "text/plain": [
       "((6370, 14), (1630, 14))"
      ]
     },
     "execution_count": 67,
     "metadata": {},
     "output_type": "execute_result"
    }
   ],
   "source": [
    "df3_class_0.shape, df3_class_1.shape # class_o is the major class"
   ]
  },
  {
   "cell_type": "code",
   "execution_count": 68,
   "id": "1d09d989-8893-4531-b54e-ff46d2d96091",
   "metadata": {},
   "outputs": [],
   "source": [
    "# define a function to create single sample\n",
    "\n",
    "def get_train_batch(df_majority, df_minority, start,end):\n",
    "    df_train = pd.concat([df_majority[ start:end ], df_minority], axis = 0)\n",
    "\n",
    "    x_train = df_train.drop('Exited', axis='columns')\n",
    "    y_train = df_train['Exited']\n",
    "\n",
    "    return x_train, y_train"
   ]
  },
  {
   "cell_type": "code",
   "execution_count": 69,
   "id": "4b80c6ce-ca0d-48f9-a17b-ca7dec46aee5",
   "metadata": {},
   "outputs": [],
   "source": [
    "x_train_ens_1, y_train_ens_1 = get_train_batch(df3_class_0, df3_class_1, 0, 1630)"
   ]
  },
  {
   "cell_type": "code",
   "execution_count": 70,
   "id": "5e84f987-2063-415b-8229-2e0f7f45a095",
   "metadata": {},
   "outputs": [
    {
     "name": "stdout",
     "output_type": "stream",
     "text": [
      "Epoch 1/100\n",
      "102/102 [==============================] - 1s 1ms/step - loss: 20.4283 - accuracy: 0.5028\n",
      "Epoch 2/100\n",
      "102/102 [==============================] - 0s 1ms/step - loss: 0.7767 - accuracy: 0.5380\n",
      "Epoch 3/100\n",
      "102/102 [==============================] - 0s 1ms/step - loss: 0.8455 - accuracy: 0.5175\n",
      "Epoch 4/100\n",
      "102/102 [==============================] - 0s 2ms/step - loss: 0.8624 - accuracy: 0.5408\n",
      "Epoch 5/100\n",
      "102/102 [==============================] - 0s 2ms/step - loss: 1.4589 - accuracy: 0.5212\n",
      "Epoch 6/100\n",
      "102/102 [==============================] - 0s 2ms/step - loss: 1.4139 - accuracy: 0.5120\n",
      "Epoch 7/100\n",
      "102/102 [==============================] - 0s 2ms/step - loss: 0.9473 - accuracy: 0.5564\n",
      "Epoch 8/100\n",
      "102/102 [==============================] - 0s 2ms/step - loss: 0.7784 - accuracy: 0.5752\n",
      "Epoch 9/100\n",
      "102/102 [==============================] - 0s 2ms/step - loss: 0.7656 - accuracy: 0.5874\n",
      "Epoch 10/100\n",
      "102/102 [==============================] - 0s 2ms/step - loss: 0.8529 - accuracy: 0.5733\n",
      "Epoch 11/100\n",
      "102/102 [==============================] - 0s 4ms/step - loss: 1.7845 - accuracy: 0.5288\n",
      "Epoch 12/100\n",
      "102/102 [==============================] - 0s 2ms/step - loss: 0.9389 - accuracy: 0.5595\n",
      "Epoch 13/100\n",
      "102/102 [==============================] - 0s 2ms/step - loss: 0.7430 - accuracy: 0.5951\n",
      "Epoch 14/100\n",
      "102/102 [==============================] - 0s 2ms/step - loss: 0.8648 - accuracy: 0.5718\n",
      "Epoch 15/100\n",
      "102/102 [==============================] - 0s 2ms/step - loss: 0.9879 - accuracy: 0.5709\n",
      "Epoch 16/100\n",
      "102/102 [==============================] - 0s 2ms/step - loss: 0.9931 - accuracy: 0.5675\n",
      "Epoch 17/100\n",
      "102/102 [==============================] - 0s 2ms/step - loss: 0.8744 - accuracy: 0.5905\n",
      "Epoch 18/100\n",
      "102/102 [==============================] - 0s 2ms/step - loss: 0.9226 - accuracy: 0.5761\n",
      "Epoch 19/100\n",
      "102/102 [==============================] - 0s 2ms/step - loss: 0.9345 - accuracy: 0.5721\n",
      "Epoch 20/100\n",
      "102/102 [==============================] - 0s 2ms/step - loss: 0.8295 - accuracy: 0.5945\n",
      "Epoch 21/100\n",
      "102/102 [==============================] - 0s 2ms/step - loss: 1.1243 - accuracy: 0.5613\n",
      "Epoch 22/100\n",
      "102/102 [==============================] - 0s 2ms/step - loss: 0.8924 - accuracy: 0.5681\n",
      "Epoch 23/100\n",
      "102/102 [==============================] - 0s 3ms/step - loss: 0.9035 - accuracy: 0.5948\n",
      "Epoch 24/100\n",
      "102/102 [==============================] - 0s 2ms/step - loss: 0.9587 - accuracy: 0.5699\n",
      "Epoch 25/100\n",
      "102/102 [==============================] - 0s 2ms/step - loss: 0.9602 - accuracy: 0.5684\n",
      "Epoch 26/100\n",
      "102/102 [==============================] - 0s 2ms/step - loss: 0.8579 - accuracy: 0.5982\n",
      "Epoch 27/100\n",
      "102/102 [==============================] - 0s 2ms/step - loss: 0.7534 - accuracy: 0.6018\n",
      "Epoch 28/100\n",
      "102/102 [==============================] - 0s 2ms/step - loss: 0.7561 - accuracy: 0.6138\n",
      "Epoch 29/100\n",
      "102/102 [==============================] - 0s 3ms/step - loss: 0.8555 - accuracy: 0.6037\n",
      "Epoch 30/100\n",
      "102/102 [==============================] - 0s 3ms/step - loss: 1.0026 - accuracy: 0.5923\n",
      "Epoch 31/100\n",
      "102/102 [==============================] - 0s 3ms/step - loss: 0.8085 - accuracy: 0.6015\n",
      "Epoch 32/100\n",
      "102/102 [==============================] - 0s 2ms/step - loss: 1.0733 - accuracy: 0.5862\n",
      "Epoch 33/100\n",
      "102/102 [==============================] - 0s 2ms/step - loss: 1.0076 - accuracy: 0.5718\n",
      "Epoch 34/100\n",
      "102/102 [==============================] - 0s 2ms/step - loss: 0.7786 - accuracy: 0.6031\n",
      "Epoch 35/100\n",
      "102/102 [==============================] - 0s 2ms/step - loss: 0.7982 - accuracy: 0.6138\n",
      "Epoch 36/100\n",
      "102/102 [==============================] - 0s 2ms/step - loss: 1.0479 - accuracy: 0.5706\n",
      "Epoch 37/100\n",
      "102/102 [==============================] - 0s 3ms/step - loss: 0.8864 - accuracy: 0.5905\n",
      "Epoch 38/100\n",
      "102/102 [==============================] - 0s 3ms/step - loss: 0.7448 - accuracy: 0.6169\n",
      "Epoch 39/100\n",
      "102/102 [==============================] - 0s 3ms/step - loss: 0.7756 - accuracy: 0.6144\n",
      "Epoch 40/100\n",
      "102/102 [==============================] - 0s 3ms/step - loss: 1.0852 - accuracy: 0.5684\n",
      "Epoch 41/100\n",
      "102/102 [==============================] - 0s 3ms/step - loss: 0.9290 - accuracy: 0.5896\n",
      "Epoch 42/100\n",
      "102/102 [==============================] - 0s 3ms/step - loss: 0.8656 - accuracy: 0.5975\n",
      "Epoch 43/100\n",
      "102/102 [==============================] - 0s 3ms/step - loss: 0.9587 - accuracy: 0.5914\n",
      "Epoch 44/100\n",
      "102/102 [==============================] - 0s 3ms/step - loss: 0.7645 - accuracy: 0.6107\n",
      "Epoch 45/100\n",
      "102/102 [==============================] - 0s 3ms/step - loss: 0.9076 - accuracy: 0.5994\n",
      "Epoch 46/100\n",
      "102/102 [==============================] - 0s 3ms/step - loss: 0.7729 - accuracy: 0.6242\n",
      "Epoch 47/100\n",
      "102/102 [==============================] - 0s 3ms/step - loss: 0.8799 - accuracy: 0.6101\n",
      "Epoch 48/100\n",
      "102/102 [==============================] - 0s 2ms/step - loss: 0.8992 - accuracy: 0.5887\n",
      "Epoch 49/100\n",
      "102/102 [==============================] - 0s 2ms/step - loss: 0.8882 - accuracy: 0.6003\n",
      "Epoch 50/100\n",
      "102/102 [==============================] - 0s 2ms/step - loss: 0.7162 - accuracy: 0.6233\n",
      "Epoch 51/100\n",
      "102/102 [==============================] - 0s 2ms/step - loss: 0.9911 - accuracy: 0.5779\n",
      "Epoch 52/100\n",
      "102/102 [==============================] - 0s 2ms/step - loss: 0.8570 - accuracy: 0.6000\n",
      "Epoch 53/100\n",
      "102/102 [==============================] - 0s 2ms/step - loss: 0.7444 - accuracy: 0.6258\n",
      "Epoch 54/100\n",
      "102/102 [==============================] - 0s 2ms/step - loss: 0.9299 - accuracy: 0.5933\n",
      "Epoch 55/100\n",
      "102/102 [==============================] - 0s 2ms/step - loss: 0.9470 - accuracy: 0.5975\n",
      "Epoch 56/100\n",
      "102/102 [==============================] - 0s 2ms/step - loss: 1.2052 - accuracy: 0.5706\n",
      "Epoch 57/100\n",
      "102/102 [==============================] - 0s 2ms/step - loss: 0.8235 - accuracy: 0.5960\n",
      "Epoch 58/100\n",
      "102/102 [==============================] - 0s 2ms/step - loss: 0.8978 - accuracy: 0.5988\n",
      "Epoch 59/100\n",
      "102/102 [==============================] - 0s 2ms/step - loss: 1.0035 - accuracy: 0.5975\n",
      "Epoch 60/100\n",
      "102/102 [==============================] - 0s 2ms/step - loss: 0.8647 - accuracy: 0.5926\n",
      "Epoch 61/100\n",
      "102/102 [==============================] - 0s 2ms/step - loss: 0.7262 - accuracy: 0.6230\n",
      "Epoch 62/100\n",
      "102/102 [==============================] - 0s 2ms/step - loss: 0.7977 - accuracy: 0.6193\n",
      "Epoch 63/100\n",
      "102/102 [==============================] - 0s 2ms/step - loss: 1.0553 - accuracy: 0.5859\n",
      "Epoch 64/100\n",
      "102/102 [==============================] - 0s 3ms/step - loss: 0.9863 - accuracy: 0.5933\n",
      "Epoch 65/100\n",
      "102/102 [==============================] - 0s 2ms/step - loss: 0.9051 - accuracy: 0.6077\n",
      "Epoch 66/100\n",
      "102/102 [==============================] - 0s 2ms/step - loss: 0.9478 - accuracy: 0.5957\n",
      "Epoch 67/100\n",
      "102/102 [==============================] - 0s 2ms/step - loss: 0.8039 - accuracy: 0.6071\n",
      "Epoch 68/100\n",
      "102/102 [==============================] - 0s 2ms/step - loss: 0.8674 - accuracy: 0.6009\n",
      "Epoch 69/100\n",
      "102/102 [==============================] - 0s 2ms/step - loss: 0.9866 - accuracy: 0.5948\n",
      "Epoch 70/100\n",
      "102/102 [==============================] - 0s 2ms/step - loss: 0.7603 - accuracy: 0.6202\n",
      "Epoch 71/100\n",
      "102/102 [==============================] - 0s 2ms/step - loss: 1.0378 - accuracy: 0.5834\n",
      "Epoch 72/100\n",
      "102/102 [==============================] - 0s 2ms/step - loss: 1.0114 - accuracy: 0.5929\n",
      "Epoch 73/100\n",
      "102/102 [==============================] - 0s 2ms/step - loss: 0.8569 - accuracy: 0.6006\n",
      "Epoch 74/100\n",
      "102/102 [==============================] - 0s 2ms/step - loss: 0.9004 - accuracy: 0.5954\n",
      "Epoch 75/100\n",
      "102/102 [==============================] - 0s 2ms/step - loss: 0.9937 - accuracy: 0.5966\n",
      "Epoch 76/100\n",
      "102/102 [==============================] - 0s 2ms/step - loss: 0.7235 - accuracy: 0.6307\n",
      "Epoch 77/100\n",
      "102/102 [==============================] - 0s 2ms/step - loss: 0.7415 - accuracy: 0.6273\n",
      "Epoch 78/100\n",
      "102/102 [==============================] - 0s 2ms/step - loss: 0.7493 - accuracy: 0.6267\n",
      "Epoch 79/100\n",
      "102/102 [==============================] - 0s 2ms/step - loss: 0.9432 - accuracy: 0.5975\n",
      "Epoch 80/100\n",
      "102/102 [==============================] - 0s 2ms/step - loss: 0.9371 - accuracy: 0.6018\n",
      "Epoch 81/100\n",
      "102/102 [==============================] - 0s 2ms/step - loss: 0.7448 - accuracy: 0.6325\n",
      "Epoch 82/100\n",
      "102/102 [==============================] - 0s 2ms/step - loss: 1.1141 - accuracy: 0.5798\n",
      "Epoch 83/100\n",
      "102/102 [==============================] - 0s 2ms/step - loss: 0.8315 - accuracy: 0.6252\n",
      "Epoch 84/100\n",
      "102/102 [==============================] - 0s 2ms/step - loss: 0.7991 - accuracy: 0.6261\n",
      "Epoch 85/100\n",
      "102/102 [==============================] - 0s 2ms/step - loss: 0.9289 - accuracy: 0.6147\n",
      "Epoch 86/100\n",
      "102/102 [==============================] - 0s 3ms/step - loss: 0.8241 - accuracy: 0.6163\n",
      "Epoch 87/100\n",
      "102/102 [==============================] - 0s 2ms/step - loss: 0.7471 - accuracy: 0.6316\n",
      "Epoch 88/100\n",
      "102/102 [==============================] - 0s 3ms/step - loss: 0.8674 - accuracy: 0.6086\n",
      "Epoch 89/100\n",
      "102/102 [==============================] - 0s 2ms/step - loss: 0.7344 - accuracy: 0.6187\n",
      "Epoch 90/100\n",
      "102/102 [==============================] - 0s 3ms/step - loss: 1.3317 - accuracy: 0.5736\n",
      "Epoch 91/100\n",
      "102/102 [==============================] - 0s 3ms/step - loss: 0.8927 - accuracy: 0.6150\n",
      "Epoch 92/100\n",
      "102/102 [==============================] - 0s 2ms/step - loss: 0.7293 - accuracy: 0.6270\n",
      "Epoch 93/100\n",
      "102/102 [==============================] - 0s 2ms/step - loss: 0.7401 - accuracy: 0.6457\n",
      "Epoch 94/100\n",
      "102/102 [==============================] - 0s 3ms/step - loss: 0.7426 - accuracy: 0.6264\n",
      "Epoch 95/100\n",
      "102/102 [==============================] - 0s 2ms/step - loss: 0.7380 - accuracy: 0.6353\n",
      "Epoch 96/100\n",
      "102/102 [==============================] - 0s 2ms/step - loss: 0.7308 - accuracy: 0.6270\n",
      "Epoch 97/100\n",
      "102/102 [==============================] - 0s 2ms/step - loss: 1.0913 - accuracy: 0.5810\n",
      "Epoch 98/100\n",
      "102/102 [==============================] - 0s 2ms/step - loss: 0.7463 - accuracy: 0.6365\n",
      "Epoch 99/100\n",
      "102/102 [==============================] - 0s 2ms/step - loss: 0.8180 - accuracy: 0.6187\n",
      "Epoch 100/100\n",
      "102/102 [==============================] - 0s 2ms/step - loss: 0.7599 - accuracy: 0.6261\n",
      "63/63 [==============================] - 0s 2ms/step - loss: 0.5815 - accuracy: 0.6960\n",
      "[0.5815421342849731, 0.6959999799728394]\n",
      "63/63 [==============================] - 0s 1ms/step\n",
      "Classification report :\n",
      "              precision    recall  f1-score   support\n",
      "\n",
      "           0       0.88      0.72      0.79      1593\n",
      "           1       0.36      0.61      0.45       407\n",
      "\n",
      "    accuracy                           0.70      2000\n",
      "   macro avg       0.62      0.66      0.62      2000\n",
      "weighted avg       0.77      0.70      0.72      2000\n",
      "\n"
     ]
    }
   ],
   "source": [
    "## Batch 1\n",
    "\n",
    "y_pred_1 = ANN(x_train_ens_1, y_train_ens_1, x_test_ens, y_test_ens, 'binary_crossentropy', -1)"
   ]
  },
  {
   "cell_type": "code",
   "execution_count": 71,
   "id": "6c503f5d-552f-4e04-b9b1-0eef2893d46c",
   "metadata": {},
   "outputs": [
    {
     "data": {
      "text/plain": [
       "3260"
      ]
     },
     "execution_count": 71,
     "metadata": {},
     "output_type": "execute_result"
    }
   ],
   "source": [
    "1630*2"
   ]
  },
  {
   "cell_type": "code",
   "execution_count": 72,
   "id": "d6a4abc7-a470-4283-8725-74a6221c43a9",
   "metadata": {},
   "outputs": [
    {
     "name": "stdout",
     "output_type": "stream",
     "text": [
      "Epoch 1/100\n",
      "102/102 [==============================] - 1s 1ms/step - loss: 31.8624 - accuracy: 0.4942\n",
      "Epoch 2/100\n",
      "102/102 [==============================] - 0s 1ms/step - loss: 0.9418 - accuracy: 0.4880\n",
      "Epoch 3/100\n",
      "102/102 [==============================] - 0s 2ms/step - loss: 1.2270 - accuracy: 0.4963\n",
      "Epoch 4/100\n",
      "102/102 [==============================] - 0s 1ms/step - loss: 0.9855 - accuracy: 0.5267\n",
      "Epoch 5/100\n",
      "102/102 [==============================] - 0s 2ms/step - loss: 1.0078 - accuracy: 0.5350\n",
      "Epoch 6/100\n",
      "102/102 [==============================] - 0s 2ms/step - loss: 1.7197 - accuracy: 0.5285\n",
      "Epoch 7/100\n",
      "102/102 [==============================] - 0s 2ms/step - loss: 1.1155 - accuracy: 0.5491\n",
      "Epoch 8/100\n",
      "102/102 [==============================] - 0s 2ms/step - loss: 0.9293 - accuracy: 0.5604\n",
      "Epoch 9/100\n",
      "102/102 [==============================] - 0s 2ms/step - loss: 1.1164 - accuracy: 0.5442\n",
      "Epoch 10/100\n",
      "102/102 [==============================] - 0s 2ms/step - loss: 0.8750 - accuracy: 0.5595\n",
      "Epoch 11/100\n",
      "102/102 [==============================] - 0s 2ms/step - loss: 1.4280 - accuracy: 0.5374\n",
      "Epoch 12/100\n",
      "102/102 [==============================] - 0s 2ms/step - loss: 0.8757 - accuracy: 0.5825\n",
      "Epoch 13/100\n",
      "102/102 [==============================] - 0s 2ms/step - loss: 0.8604 - accuracy: 0.5813\n",
      "Epoch 14/100\n",
      "102/102 [==============================] - 0s 2ms/step - loss: 0.8994 - accuracy: 0.5819\n",
      "Epoch 15/100\n",
      "102/102 [==============================] - 0s 2ms/step - loss: 1.1201 - accuracy: 0.5730\n",
      "Epoch 16/100\n",
      "102/102 [==============================] - 0s 3ms/step - loss: 1.3267 - accuracy: 0.5543\n",
      "Epoch 17/100\n",
      "102/102 [==============================] - 0s 2ms/step - loss: 0.8621 - accuracy: 0.5748\n",
      "Epoch 18/100\n",
      "102/102 [==============================] - 0s 2ms/step - loss: 0.9094 - accuracy: 0.5813\n",
      "Epoch 19/100\n",
      "102/102 [==============================] - 0s 2ms/step - loss: 1.2583 - accuracy: 0.5445\n",
      "Epoch 20/100\n",
      "102/102 [==============================] - 0s 2ms/step - loss: 0.8539 - accuracy: 0.5926\n",
      "Epoch 21/100\n",
      "102/102 [==============================] - 0s 2ms/step - loss: 1.0030 - accuracy: 0.5727\n",
      "Epoch 22/100\n",
      "102/102 [==============================] - 0s 2ms/step - loss: 0.9350 - accuracy: 0.5798\n",
      "Epoch 23/100\n",
      "102/102 [==============================] - 0s 2ms/step - loss: 1.1475 - accuracy: 0.5678\n",
      "Epoch 24/100\n",
      "102/102 [==============================] - 0s 2ms/step - loss: 0.8858 - accuracy: 0.5798\n",
      "Epoch 25/100\n",
      "102/102 [==============================] - 0s 2ms/step - loss: 0.8520 - accuracy: 0.5979\n",
      "Epoch 26/100\n",
      "102/102 [==============================] - 0s 2ms/step - loss: 0.9979 - accuracy: 0.5696\n",
      "Epoch 27/100\n",
      "102/102 [==============================] - 0s 3ms/step - loss: 1.0236 - accuracy: 0.5844\n",
      "Epoch 28/100\n",
      "102/102 [==============================] - 0s 2ms/step - loss: 0.8357 - accuracy: 0.6018\n",
      "Epoch 29/100\n",
      "102/102 [==============================] - 0s 3ms/step - loss: 0.7467 - accuracy: 0.6132\n",
      "Epoch 30/100\n",
      "102/102 [==============================] - 0s 3ms/step - loss: 0.8919 - accuracy: 0.6052\n",
      "Epoch 31/100\n",
      "102/102 [==============================] - 0s 2ms/step - loss: 1.1663 - accuracy: 0.5770\n",
      "Epoch 32/100\n",
      "102/102 [==============================] - 0s 2ms/step - loss: 0.9427 - accuracy: 0.5847\n",
      "Epoch 33/100\n",
      "102/102 [==============================] - 0s 2ms/step - loss: 1.1491 - accuracy: 0.5782\n",
      "Epoch 34/100\n",
      "102/102 [==============================] - 0s 2ms/step - loss: 0.8437 - accuracy: 0.6052\n",
      "Epoch 35/100\n",
      "102/102 [==============================] - 0s 2ms/step - loss: 0.9995 - accuracy: 0.5963\n",
      "Epoch 36/100\n",
      "102/102 [==============================] - 0s 2ms/step - loss: 1.1553 - accuracy: 0.5770\n",
      "Epoch 37/100\n",
      "102/102 [==============================] - 0s 2ms/step - loss: 1.1676 - accuracy: 0.5911\n",
      "Epoch 38/100\n",
      "102/102 [==============================] - 0s 2ms/step - loss: 1.0385 - accuracy: 0.5908\n",
      "Epoch 39/100\n",
      "102/102 [==============================] - 0s 2ms/step - loss: 1.3781 - accuracy: 0.5798\n",
      "Epoch 40/100\n",
      "102/102 [==============================] - 0s 2ms/step - loss: 0.8844 - accuracy: 0.6046\n",
      "Epoch 41/100\n",
      "102/102 [==============================] - 0s 2ms/step - loss: 0.8564 - accuracy: 0.5972\n",
      "Epoch 42/100\n",
      "102/102 [==============================] - 0s 2ms/step - loss: 1.0592 - accuracy: 0.5954\n",
      "Epoch 43/100\n",
      "102/102 [==============================] - 0s 2ms/step - loss: 0.9143 - accuracy: 0.5966\n",
      "Epoch 44/100\n",
      "102/102 [==============================] - 0s 2ms/step - loss: 0.8175 - accuracy: 0.6058\n",
      "Epoch 45/100\n",
      "102/102 [==============================] - 0s 2ms/step - loss: 0.7963 - accuracy: 0.6313\n",
      "Epoch 46/100\n",
      "102/102 [==============================] - 0s 2ms/step - loss: 1.2952 - accuracy: 0.5788\n",
      "Epoch 47/100\n",
      "102/102 [==============================] - 0s 2ms/step - loss: 1.3804 - accuracy: 0.5853\n",
      "Epoch 48/100\n",
      "102/102 [==============================] - 0s 2ms/step - loss: 0.9371 - accuracy: 0.6132\n",
      "Epoch 49/100\n",
      "102/102 [==============================] - 0s 2ms/step - loss: 1.3094 - accuracy: 0.5604\n",
      "Epoch 50/100\n",
      "102/102 [==============================] - 0s 2ms/step - loss: 1.3332 - accuracy: 0.5696\n",
      "Epoch 51/100\n",
      "102/102 [==============================] - 0s 2ms/step - loss: 1.1247 - accuracy: 0.5877\n",
      "Epoch 52/100\n",
      "102/102 [==============================] - 0s 2ms/step - loss: 1.2191 - accuracy: 0.5887\n",
      "Epoch 53/100\n",
      "102/102 [==============================] - 0s 2ms/step - loss: 1.4039 - accuracy: 0.5696\n",
      "Epoch 54/100\n",
      "102/102 [==============================] - 0s 2ms/step - loss: 0.9759 - accuracy: 0.6086\n",
      "Epoch 55/100\n",
      "102/102 [==============================] - 0s 2ms/step - loss: 0.8220 - accuracy: 0.6227\n",
      "Epoch 56/100\n",
      "102/102 [==============================] - 0s 2ms/step - loss: 1.1576 - accuracy: 0.5862\n",
      "Epoch 57/100\n",
      "102/102 [==============================] - 0s 2ms/step - loss: 0.8461 - accuracy: 0.6132\n",
      "Epoch 58/100\n",
      "102/102 [==============================] - 0s 2ms/step - loss: 0.9768 - accuracy: 0.6160\n",
      "Epoch 59/100\n",
      "102/102 [==============================] - 0s 2ms/step - loss: 0.9701 - accuracy: 0.5939\n",
      "Epoch 60/100\n",
      "102/102 [==============================] - 0s 2ms/step - loss: 1.0409 - accuracy: 0.6018\n",
      "Epoch 61/100\n",
      "102/102 [==============================] - 0s 2ms/step - loss: 0.8901 - accuracy: 0.6215\n",
      "Epoch 62/100\n",
      "102/102 [==============================] - 0s 2ms/step - loss: 0.9360 - accuracy: 0.6291\n",
      "Epoch 63/100\n",
      "102/102 [==============================] - 0s 2ms/step - loss: 0.7080 - accuracy: 0.6494\n",
      "Epoch 64/100\n",
      "102/102 [==============================] - 0s 2ms/step - loss: 1.1915 - accuracy: 0.5920\n",
      "Epoch 65/100\n",
      "102/102 [==============================] - 0s 2ms/step - loss: 1.6647 - accuracy: 0.5926\n",
      "Epoch 66/100\n",
      "102/102 [==============================] - 0s 2ms/step - loss: 1.3929 - accuracy: 0.5834\n",
      "Epoch 67/100\n",
      "102/102 [==============================] - 0s 2ms/step - loss: 0.8749 - accuracy: 0.6043\n",
      "Epoch 68/100\n",
      "102/102 [==============================] - 0s 2ms/step - loss: 0.8698 - accuracy: 0.6313\n",
      "Epoch 69/100\n",
      "102/102 [==============================] - 0s 2ms/step - loss: 1.6627 - accuracy: 0.5491\n",
      "Epoch 70/100\n",
      "102/102 [==============================] - 0s 2ms/step - loss: 0.8512 - accuracy: 0.6190\n",
      "Epoch 71/100\n",
      "102/102 [==============================] - 0s 2ms/step - loss: 0.8025 - accuracy: 0.6270\n",
      "Epoch 72/100\n",
      "102/102 [==============================] - 0s 3ms/step - loss: 0.7843 - accuracy: 0.6414\n",
      "Epoch 73/100\n",
      "102/102 [==============================] - 0s 2ms/step - loss: 0.9944 - accuracy: 0.6150\n",
      "Epoch 74/100\n",
      "102/102 [==============================] - 0s 2ms/step - loss: 1.2379 - accuracy: 0.5887\n",
      "Epoch 75/100\n",
      "102/102 [==============================] - 0s 2ms/step - loss: 0.9057 - accuracy: 0.6166\n",
      "Epoch 76/100\n",
      "102/102 [==============================] - 0s 2ms/step - loss: 1.0788 - accuracy: 0.5920\n",
      "Epoch 77/100\n",
      "102/102 [==============================] - 0s 2ms/step - loss: 0.9165 - accuracy: 0.6408\n",
      "Epoch 78/100\n",
      "102/102 [==============================] - 0s 2ms/step - loss: 1.5822 - accuracy: 0.5816\n",
      "Epoch 79/100\n",
      "102/102 [==============================] - 0s 3ms/step - loss: 1.2486 - accuracy: 0.6199\n",
      "Epoch 80/100\n",
      "102/102 [==============================] - 0s 3ms/step - loss: 0.7217 - accuracy: 0.6482\n",
      "Epoch 81/100\n",
      "102/102 [==============================] - 0s 3ms/step - loss: 1.2837 - accuracy: 0.5828\n",
      "Epoch 82/100\n",
      "102/102 [==============================] - 0s 2ms/step - loss: 0.9256 - accuracy: 0.6037\n",
      "Epoch 83/100\n",
      "102/102 [==============================] - 0s 2ms/step - loss: 1.1295 - accuracy: 0.5991\n",
      "Epoch 84/100\n",
      "102/102 [==============================] - 0s 2ms/step - loss: 0.9917 - accuracy: 0.6046\n",
      "Epoch 85/100\n",
      "102/102 [==============================] - 0s 2ms/step - loss: 0.9539 - accuracy: 0.6117\n",
      "Epoch 86/100\n",
      "102/102 [==============================] - 0s 2ms/step - loss: 1.1899 - accuracy: 0.5991\n",
      "Epoch 87/100\n",
      "102/102 [==============================] - 0s 2ms/step - loss: 1.1769 - accuracy: 0.5893\n",
      "Epoch 88/100\n",
      "102/102 [==============================] - 0s 2ms/step - loss: 0.9846 - accuracy: 0.5966\n",
      "Epoch 89/100\n",
      "102/102 [==============================] - 0s 2ms/step - loss: 0.9384 - accuracy: 0.6215\n",
      "Epoch 90/100\n",
      "102/102 [==============================] - 0s 2ms/step - loss: 1.1145 - accuracy: 0.6025\n",
      "Epoch 91/100\n",
      "102/102 [==============================] - 0s 2ms/step - loss: 1.0512 - accuracy: 0.6120\n",
      "Epoch 92/100\n",
      "102/102 [==============================] - 0s 2ms/step - loss: 1.1669 - accuracy: 0.6064\n",
      "Epoch 93/100\n",
      "102/102 [==============================] - 0s 2ms/step - loss: 1.0599 - accuracy: 0.6025\n",
      "Epoch 94/100\n",
      "102/102 [==============================] - 0s 2ms/step - loss: 0.7574 - accuracy: 0.6429\n",
      "Epoch 95/100\n",
      "102/102 [==============================] - 0s 2ms/step - loss: 1.4290 - accuracy: 0.6110\n",
      "Epoch 96/100\n",
      "102/102 [==============================] - 0s 2ms/step - loss: 0.9114 - accuracy: 0.6117\n",
      "Epoch 97/100\n",
      "102/102 [==============================] - 0s 2ms/step - loss: 1.1533 - accuracy: 0.5902\n",
      "Epoch 98/100\n",
      "102/102 [==============================] - 0s 2ms/step - loss: 0.9452 - accuracy: 0.6086\n",
      "Epoch 99/100\n",
      "102/102 [==============================] - 0s 2ms/step - loss: 0.7794 - accuracy: 0.6353\n",
      "Epoch 100/100\n",
      "102/102 [==============================] - 0s 2ms/step - loss: 1.1579 - accuracy: 0.5923\n",
      "63/63 [==============================] - 0s 2ms/step - loss: 1.0427 - accuracy: 0.4545\n",
      "[1.0426748991012573, 0.4544999897480011]\n",
      "63/63 [==============================] - 0s 1ms/step\n",
      "Classification report :\n",
      "              precision    recall  f1-score   support\n",
      "\n",
      "           0       0.93      0.34      0.50      1593\n",
      "           1       0.26      0.90      0.40       407\n",
      "\n",
      "    accuracy                           0.45      2000\n",
      "   macro avg       0.60      0.62      0.45      2000\n",
      "weighted avg       0.80      0.45      0.48      2000\n",
      "\n"
     ]
    }
   ],
   "source": [
    "## Batch 2\n",
    "\n",
    "x_train_ens_2, y_train_ens_2 = get_train_batch(df3_class_0, df3_class_1, 1630, 3260)\n",
    "y_pred_2 = ANN(x_train_ens_2, y_train_ens_2, x_test_ens, y_test_ens, 'binary_crossentropy', -1)"
   ]
  },
  {
   "cell_type": "code",
   "execution_count": 73,
   "id": "3d5f5afd-ec32-432f-a0cf-410d3d3bcc43",
   "metadata": {},
   "outputs": [
    {
     "data": {
      "text/plain": [
       "4890"
      ]
     },
     "execution_count": 73,
     "metadata": {},
     "output_type": "execute_result"
    }
   ],
   "source": [
    "1630*3"
   ]
  },
  {
   "cell_type": "code",
   "execution_count": null,
   "id": "df57a6d2-6093-44c3-898b-7fbc0c14245f",
   "metadata": {},
   "outputs": [],
   "source": []
  },
  {
   "cell_type": "code",
   "execution_count": 74,
   "id": "627f4671-9e22-4bc3-9a91-700c21c3246a",
   "metadata": {},
   "outputs": [
    {
     "name": "stdout",
     "output_type": "stream",
     "text": [
      "Epoch 1/100\n",
      "102/102 [==============================] - 1s 1ms/step - loss: 38.3048 - accuracy: 0.5037\n",
      "Epoch 2/100\n",
      "102/102 [==============================] - 0s 2ms/step - loss: 0.8458 - accuracy: 0.5273\n",
      "Epoch 3/100\n",
      "102/102 [==============================] - 0s 2ms/step - loss: 1.4027 - accuracy: 0.5291\n",
      "Epoch 4/100\n",
      "102/102 [==============================] - 0s 2ms/step - loss: 0.8867 - accuracy: 0.5408\n",
      "Epoch 5/100\n",
      "102/102 [==============================] - 0s 2ms/step - loss: 0.9263 - accuracy: 0.5482\n",
      "Epoch 6/100\n",
      "102/102 [==============================] - 0s 2ms/step - loss: 1.0786 - accuracy: 0.5436\n",
      "Epoch 7/100\n",
      "102/102 [==============================] - 0s 2ms/step - loss: 1.0239 - accuracy: 0.5678\n",
      "Epoch 8/100\n",
      "102/102 [==============================] - 0s 2ms/step - loss: 0.9756 - accuracy: 0.5546\n",
      "Epoch 9/100\n",
      "102/102 [==============================] - 0s 2ms/step - loss: 0.9386 - accuracy: 0.5620\n",
      "Epoch 10/100\n",
      "102/102 [==============================] - 0s 2ms/step - loss: 0.8256 - accuracy: 0.5819\n",
      "Epoch 11/100\n",
      "102/102 [==============================] - 0s 2ms/step - loss: 0.8819 - accuracy: 0.5721\n",
      "Epoch 12/100\n",
      "102/102 [==============================] - 0s 2ms/step - loss: 1.0169 - accuracy: 0.5629\n",
      "Epoch 13/100\n",
      "102/102 [==============================] - 0s 2ms/step - loss: 0.9004 - accuracy: 0.5939\n",
      "Epoch 14/100\n",
      "102/102 [==============================] - 0s 2ms/step - loss: 1.0024 - accuracy: 0.5690\n",
      "Epoch 15/100\n",
      "102/102 [==============================] - 0s 2ms/step - loss: 0.9509 - accuracy: 0.5865\n",
      "Epoch 16/100\n",
      "102/102 [==============================] - 0s 2ms/step - loss: 0.8452 - accuracy: 0.6012\n",
      "Epoch 17/100\n",
      "102/102 [==============================] - 0s 2ms/step - loss: 1.3102 - accuracy: 0.5528\n",
      "Epoch 18/100\n",
      "102/102 [==============================] - 0s 2ms/step - loss: 0.7369 - accuracy: 0.6178\n",
      "Epoch 19/100\n",
      "102/102 [==============================] - 0s 2ms/step - loss: 0.9367 - accuracy: 0.5972\n",
      "Epoch 20/100\n",
      "102/102 [==============================] - 0s 2ms/step - loss: 0.9039 - accuracy: 0.5933\n",
      "Epoch 21/100\n",
      "102/102 [==============================] - 0s 2ms/step - loss: 0.7516 - accuracy: 0.6095\n",
      "Epoch 22/100\n",
      "102/102 [==============================] - 0s 2ms/step - loss: 0.9816 - accuracy: 0.5911\n",
      "Epoch 23/100\n",
      "102/102 [==============================] - 0s 2ms/step - loss: 0.9021 - accuracy: 0.5994\n",
      "Epoch 24/100\n",
      "102/102 [==============================] - 0s 2ms/step - loss: 1.0988 - accuracy: 0.5785\n",
      "Epoch 25/100\n",
      "102/102 [==============================] - 0s 2ms/step - loss: 0.9307 - accuracy: 0.6018\n",
      "Epoch 26/100\n",
      "102/102 [==============================] - 0s 2ms/step - loss: 1.3042 - accuracy: 0.5825\n",
      "Epoch 27/100\n",
      "102/102 [==============================] - 0s 2ms/step - loss: 0.9549 - accuracy: 0.5979\n",
      "Epoch 28/100\n",
      "102/102 [==============================] - 0s 2ms/step - loss: 0.9344 - accuracy: 0.6141\n",
      "Epoch 29/100\n",
      "102/102 [==============================] - 0s 2ms/step - loss: 0.8931 - accuracy: 0.5926\n",
      "Epoch 30/100\n",
      "102/102 [==============================] - 0s 2ms/step - loss: 1.0803 - accuracy: 0.5755\n",
      "Epoch 31/100\n",
      "102/102 [==============================] - 0s 2ms/step - loss: 0.8934 - accuracy: 0.5979\n",
      "Epoch 32/100\n",
      "102/102 [==============================] - 0s 2ms/step - loss: 1.0203 - accuracy: 0.5966\n",
      "Epoch 33/100\n",
      "102/102 [==============================] - 0s 2ms/step - loss: 0.8411 - accuracy: 0.5948\n",
      "Epoch 34/100\n",
      "102/102 [==============================] - 0s 2ms/step - loss: 0.7882 - accuracy: 0.6120\n",
      "Epoch 35/100\n",
      "102/102 [==============================] - 0s 2ms/step - loss: 0.7652 - accuracy: 0.6126\n",
      "Epoch 36/100\n",
      "102/102 [==============================] - 0s 2ms/step - loss: 0.9100 - accuracy: 0.6089\n",
      "Epoch 37/100\n",
      "102/102 [==============================] - 0s 2ms/step - loss: 1.1361 - accuracy: 0.5810\n",
      "Epoch 38/100\n",
      "102/102 [==============================] - 0s 2ms/step - loss: 0.8872 - accuracy: 0.6012\n",
      "Epoch 39/100\n",
      "102/102 [==============================] - 0s 3ms/step - loss: 0.8455 - accuracy: 0.6218\n",
      "Epoch 40/100\n",
      "102/102 [==============================] - 0s 3ms/step - loss: 0.8447 - accuracy: 0.6285\n",
      "Epoch 41/100\n",
      "102/102 [==============================] - 0s 3ms/step - loss: 1.1490 - accuracy: 0.5923\n",
      "Epoch 42/100\n",
      "102/102 [==============================] - 0s 3ms/step - loss: 0.8771 - accuracy: 0.6199\n",
      "Epoch 43/100\n",
      "102/102 [==============================] - 0s 3ms/step - loss: 0.9618 - accuracy: 0.5926\n",
      "Epoch 44/100\n",
      "102/102 [==============================] - 0s 3ms/step - loss: 1.0079 - accuracy: 0.6117\n",
      "Epoch 45/100\n",
      "102/102 [==============================] - 0s 2ms/step - loss: 1.0500 - accuracy: 0.5831\n",
      "Epoch 46/100\n",
      "102/102 [==============================] - 0s 2ms/step - loss: 0.6784 - accuracy: 0.6433\n",
      "Epoch 47/100\n",
      "102/102 [==============================] - 0s 2ms/step - loss: 0.9970 - accuracy: 0.5856\n",
      "Epoch 48/100\n",
      "102/102 [==============================] - 0s 2ms/step - loss: 1.1715 - accuracy: 0.5887\n",
      "Epoch 49/100\n",
      "102/102 [==============================] - 0s 2ms/step - loss: 0.8770 - accuracy: 0.6058\n",
      "Epoch 50/100\n",
      "102/102 [==============================] - 0s 2ms/step - loss: 0.9241 - accuracy: 0.6132\n",
      "Epoch 51/100\n",
      "102/102 [==============================] - 0s 2ms/step - loss: 0.8305 - accuracy: 0.6107\n",
      "Epoch 52/100\n",
      "102/102 [==============================] - 0s 2ms/step - loss: 0.8807 - accuracy: 0.6003\n",
      "Epoch 53/100\n",
      "102/102 [==============================] - 0s 2ms/step - loss: 1.1997 - accuracy: 0.5929\n",
      "Epoch 54/100\n",
      "102/102 [==============================] - 0s 2ms/step - loss: 0.8511 - accuracy: 0.6252\n",
      "Epoch 55/100\n",
      "102/102 [==============================] - 0s 2ms/step - loss: 0.9924 - accuracy: 0.5988\n",
      "Epoch 56/100\n",
      "102/102 [==============================] - 0s 2ms/step - loss: 0.9397 - accuracy: 0.6067\n",
      "Epoch 57/100\n",
      "102/102 [==============================] - 0s 2ms/step - loss: 0.7599 - accuracy: 0.6224\n",
      "Epoch 58/100\n",
      "102/102 [==============================] - 0s 2ms/step - loss: 1.1728 - accuracy: 0.5819\n",
      "Epoch 59/100\n",
      "102/102 [==============================] - 0s 2ms/step - loss: 1.1672 - accuracy: 0.5776\n",
      "Epoch 60/100\n",
      "102/102 [==============================] - 0s 2ms/step - loss: 1.1078 - accuracy: 0.5929\n",
      "Epoch 61/100\n",
      "102/102 [==============================] - 0s 2ms/step - loss: 1.1474 - accuracy: 0.5933\n",
      "Epoch 62/100\n",
      "102/102 [==============================] - 0s 2ms/step - loss: 0.7995 - accuracy: 0.6261\n",
      "Epoch 63/100\n",
      "102/102 [==============================] - 0s 2ms/step - loss: 0.7797 - accuracy: 0.6285\n",
      "Epoch 64/100\n",
      "102/102 [==============================] - 0s 2ms/step - loss: 0.7996 - accuracy: 0.6313\n",
      "Epoch 65/100\n",
      "102/102 [==============================] - 0s 2ms/step - loss: 1.0643 - accuracy: 0.6028\n",
      "Epoch 66/100\n",
      "102/102 [==============================] - 0s 2ms/step - loss: 1.1446 - accuracy: 0.6003\n",
      "Epoch 67/100\n",
      "102/102 [==============================] - 0s 2ms/step - loss: 0.8208 - accuracy: 0.6279\n",
      "Epoch 68/100\n",
      "102/102 [==============================] - 0s 2ms/step - loss: 1.0393 - accuracy: 0.6095\n",
      "Epoch 69/100\n",
      "102/102 [==============================] - 0s 2ms/step - loss: 1.5804 - accuracy: 0.5598\n",
      "Epoch 70/100\n",
      "102/102 [==============================] - 0s 2ms/step - loss: 0.7803 - accuracy: 0.6322\n",
      "Epoch 71/100\n",
      "102/102 [==============================] - 0s 2ms/step - loss: 0.7178 - accuracy: 0.6561\n",
      "Epoch 72/100\n",
      "102/102 [==============================] - 0s 2ms/step - loss: 0.9617 - accuracy: 0.6055\n",
      "Epoch 73/100\n",
      "102/102 [==============================] - 0s 2ms/step - loss: 0.8688 - accuracy: 0.6273\n",
      "Epoch 74/100\n",
      "102/102 [==============================] - 0s 2ms/step - loss: 1.1594 - accuracy: 0.5939\n",
      "Epoch 75/100\n",
      "102/102 [==============================] - 0s 2ms/step - loss: 1.1324 - accuracy: 0.5957\n",
      "Epoch 76/100\n",
      "102/102 [==============================] - 0s 2ms/step - loss: 0.8471 - accuracy: 0.6206\n",
      "Epoch 77/100\n",
      "102/102 [==============================] - 0s 2ms/step - loss: 0.9129 - accuracy: 0.6129\n",
      "Epoch 78/100\n",
      "102/102 [==============================] - 0s 2ms/step - loss: 0.8102 - accuracy: 0.6359\n",
      "Epoch 79/100\n",
      "102/102 [==============================] - 0s 2ms/step - loss: 0.8121 - accuracy: 0.6408\n",
      "Epoch 80/100\n",
      "102/102 [==============================] - 0s 2ms/step - loss: 0.7415 - accuracy: 0.6497\n",
      "Epoch 81/100\n",
      "102/102 [==============================] - 0s 2ms/step - loss: 1.2225 - accuracy: 0.5985\n",
      "Epoch 82/100\n",
      "102/102 [==============================] - 0s 2ms/step - loss: 1.0609 - accuracy: 0.6052\n",
      "Epoch 83/100\n",
      "102/102 [==============================] - 0s 2ms/step - loss: 1.0826 - accuracy: 0.5985\n",
      "Epoch 84/100\n",
      "102/102 [==============================] - 0s 2ms/step - loss: 0.7198 - accuracy: 0.6479\n",
      "Epoch 85/100\n",
      "102/102 [==============================] - 0s 2ms/step - loss: 0.9276 - accuracy: 0.6166\n",
      "Epoch 86/100\n",
      "102/102 [==============================] - 0s 2ms/step - loss: 0.9872 - accuracy: 0.6190\n",
      "Epoch 87/100\n",
      "102/102 [==============================] - 0s 2ms/step - loss: 0.8289 - accuracy: 0.6288\n",
      "Epoch 88/100\n",
      "102/102 [==============================] - 0s 2ms/step - loss: 1.1855 - accuracy: 0.5966\n",
      "Epoch 89/100\n",
      "102/102 [==============================] - 0s 2ms/step - loss: 0.8942 - accuracy: 0.6264\n",
      "Epoch 90/100\n",
      "102/102 [==============================] - 0s 2ms/step - loss: 0.9647 - accuracy: 0.6172\n",
      "Epoch 91/100\n",
      "102/102 [==============================] - 0s 2ms/step - loss: 0.7487 - accuracy: 0.6350\n",
      "Epoch 92/100\n",
      "102/102 [==============================] - 0s 2ms/step - loss: 1.0404 - accuracy: 0.6086\n",
      "Epoch 93/100\n",
      "102/102 [==============================] - 0s 2ms/step - loss: 0.8800 - accuracy: 0.6334\n",
      "Epoch 94/100\n",
      "102/102 [==============================] - 0s 2ms/step - loss: 0.8103 - accuracy: 0.6248\n",
      "Epoch 95/100\n",
      "102/102 [==============================] - 0s 3ms/step - loss: 0.8469 - accuracy: 0.6316\n",
      "Epoch 96/100\n",
      "102/102 [==============================] - 0s 3ms/step - loss: 0.8304 - accuracy: 0.6353\n",
      "Epoch 97/100\n",
      "102/102 [==============================] - 0s 3ms/step - loss: 0.9046 - accuracy: 0.6347\n",
      "Epoch 98/100\n",
      "102/102 [==============================] - 0s 3ms/step - loss: 0.9377 - accuracy: 0.6270\n",
      "Epoch 99/100\n",
      "102/102 [==============================] - 0s 3ms/step - loss: 0.8631 - accuracy: 0.6086\n",
      "Epoch 100/100\n",
      "102/102 [==============================] - 0s 3ms/step - loss: 0.7195 - accuracy: 0.6552\n",
      "63/63 [==============================] - 0s 2ms/step - loss: 0.7139 - accuracy: 0.7940\n",
      "[0.7139266729354858, 0.7940000295639038]\n",
      "63/63 [==============================] - 0s 2ms/step\n",
      "Classification report :\n",
      "              precision    recall  f1-score   support\n",
      "\n",
      "           0       0.82      0.96      0.88      1593\n",
      "           1       0.48      0.16      0.24       407\n",
      "\n",
      "    accuracy                           0.79      2000\n",
      "   macro avg       0.65      0.56      0.56      2000\n",
      "weighted avg       0.75      0.79      0.75      2000\n",
      "\n"
     ]
    }
   ],
   "source": [
    "## Batch 3\n",
    "\n",
    "x_train_ens_3, y_train_ens_3 = get_train_batch(df3_class_0, df3_class_1, 3260, 4890)\n",
    "y_pred_3 = ANN(x_train_ens_3, y_train_ens_3, x_test_ens, y_test_ens, 'binary_crossentropy', -1)"
   ]
  },
  {
   "cell_type": "code",
   "execution_count": null,
   "id": "132c2973-09fd-470c-ab47-6dd3397b10f7",
   "metadata": {},
   "outputs": [],
   "source": []
  },
  {
   "cell_type": "code",
   "execution_count": 75,
   "id": "da451eef-1f54-4368-ad1b-e942aa949733",
   "metadata": {},
   "outputs": [
    {
     "data": {
      "text/plain": [
       "6520"
      ]
     },
     "execution_count": 75,
     "metadata": {},
     "output_type": "execute_result"
    }
   ],
   "source": [
    "4890+1630"
   ]
  },
  {
   "cell_type": "code",
   "execution_count": 76,
   "id": "7b418a00-ec97-4444-9712-f5455807272b",
   "metadata": {},
   "outputs": [
    {
     "name": "stdout",
     "output_type": "stream",
     "text": [
      "Epoch 1/100\n",
      "98/98 [==============================] - 1s 1ms/step - loss: 119.3203 - accuracy: 0.5119\n",
      "Epoch 2/100\n",
      "98/98 [==============================] - 0s 2ms/step - loss: 1.2417 - accuracy: 0.4945\n",
      "Epoch 3/100\n",
      "98/98 [==============================] - 0s 2ms/step - loss: 1.1204 - accuracy: 0.5103\n",
      "Epoch 4/100\n",
      "98/98 [==============================] - 0s 2ms/step - loss: 1.2757 - accuracy: 0.5045\n",
      "Epoch 5/100\n",
      "98/98 [==============================] - 0s 2ms/step - loss: 1.0810 - accuracy: 0.5141\n",
      "Epoch 6/100\n",
      "98/98 [==============================] - 0s 2ms/step - loss: 1.4473 - accuracy: 0.5186\n",
      "Epoch 7/100\n",
      "98/98 [==============================] - 0s 2ms/step - loss: 1.1289 - accuracy: 0.5180\n",
      "Epoch 8/100\n",
      "98/98 [==============================] - 0s 2ms/step - loss: 1.3841 - accuracy: 0.5299\n",
      "Epoch 9/100\n",
      "98/98 [==============================] - 0s 2ms/step - loss: 0.9809 - accuracy: 0.5627\n",
      "Epoch 10/100\n",
      "98/98 [==============================] - 0s 2ms/step - loss: 1.0054 - accuracy: 0.5579\n",
      "Epoch 11/100\n",
      "98/98 [==============================] - 0s 2ms/step - loss: 0.9104 - accuracy: 0.5778\n",
      "Epoch 12/100\n",
      "98/98 [==============================] - 0s 2ms/step - loss: 0.9517 - accuracy: 0.5566\n",
      "Epoch 13/100\n",
      "98/98 [==============================] - 0s 2ms/step - loss: 1.1356 - accuracy: 0.5614\n",
      "Epoch 14/100\n",
      "98/98 [==============================] - 0s 2ms/step - loss: 0.9006 - accuracy: 0.5842\n",
      "Epoch 15/100\n",
      "98/98 [==============================] - 0s 2ms/step - loss: 1.2794 - accuracy: 0.5457\n",
      "Epoch 16/100\n",
      "98/98 [==============================] - 0s 2ms/step - loss: 0.9609 - accuracy: 0.5778\n",
      "Epoch 17/100\n",
      "98/98 [==============================] - 0s 2ms/step - loss: 1.0464 - accuracy: 0.5707\n",
      "Epoch 18/100\n",
      "98/98 [==============================] - 0s 2ms/step - loss: 1.2896 - accuracy: 0.5386\n",
      "Epoch 19/100\n",
      "98/98 [==============================] - 0s 2ms/step - loss: 1.2490 - accuracy: 0.5608\n",
      "Epoch 20/100\n",
      "98/98 [==============================] - 0s 2ms/step - loss: 0.8121 - accuracy: 0.5904\n",
      "Epoch 21/100\n",
      "98/98 [==============================] - 0s 2ms/step - loss: 1.7430 - accuracy: 0.5434\n",
      "Epoch 22/100\n",
      "98/98 [==============================] - 0s 2ms/step - loss: 1.0150 - accuracy: 0.5791\n",
      "Epoch 23/100\n",
      "98/98 [==============================] - 0s 2ms/step - loss: 1.0688 - accuracy: 0.5730\n",
      "Epoch 24/100\n",
      "98/98 [==============================] - 0s 2ms/step - loss: 0.9130 - accuracy: 0.5868\n",
      "Epoch 25/100\n",
      "98/98 [==============================] - 0s 2ms/step - loss: 0.9297 - accuracy: 0.5791\n",
      "Epoch 26/100\n",
      "98/98 [==============================] - 0s 3ms/step - loss: 1.5128 - accuracy: 0.5601\n",
      "Epoch 27/100\n",
      "98/98 [==============================] - 0s 3ms/step - loss: 0.9976 - accuracy: 0.5913\n",
      "Epoch 28/100\n",
      "98/98 [==============================] - 0s 3ms/step - loss: 1.0383 - accuracy: 0.5945\n",
      "Epoch 29/100\n",
      "98/98 [==============================] - 0s 3ms/step - loss: 0.7854 - accuracy: 0.6051\n",
      "Epoch 30/100\n",
      "98/98 [==============================] - 0s 3ms/step - loss: 1.0450 - accuracy: 0.5955\n",
      "Epoch 31/100\n",
      "98/98 [==============================] - 0s 3ms/step - loss: 1.1312 - accuracy: 0.5865\n",
      "Epoch 32/100\n",
      "98/98 [==============================] - 0s 3ms/step - loss: 0.9888 - accuracy: 0.5801\n",
      "Epoch 33/100\n",
      "98/98 [==============================] - 0s 3ms/step - loss: 1.1223 - accuracy: 0.6023\n",
      "Epoch 34/100\n",
      "98/98 [==============================] - 0s 2ms/step - loss: 1.3487 - accuracy: 0.5669\n",
      "Epoch 35/100\n",
      "98/98 [==============================] - 0s 2ms/step - loss: 0.9879 - accuracy: 0.6186\n",
      "Epoch 36/100\n",
      "98/98 [==============================] - 0s 2ms/step - loss: 1.0239 - accuracy: 0.5852\n",
      "Epoch 37/100\n",
      "98/98 [==============================] - 0s 2ms/step - loss: 1.0272 - accuracy: 0.6010\n",
      "Epoch 38/100\n",
      "98/98 [==============================] - 0s 2ms/step - loss: 1.2037 - accuracy: 0.5714\n",
      "Epoch 39/100\n",
      "98/98 [==============================] - 0s 2ms/step - loss: 0.7835 - accuracy: 0.6093\n",
      "Epoch 40/100\n",
      "98/98 [==============================] - 0s 2ms/step - loss: 1.0110 - accuracy: 0.5862\n",
      "Epoch 41/100\n",
      "98/98 [==============================] - 0s 2ms/step - loss: 1.2584 - accuracy: 0.5807\n",
      "Epoch 42/100\n",
      "98/98 [==============================] - 0s 2ms/step - loss: 1.0012 - accuracy: 0.5939\n",
      "Epoch 43/100\n",
      "98/98 [==============================] - 0s 2ms/step - loss: 0.9758 - accuracy: 0.5910\n",
      "Epoch 44/100\n",
      "98/98 [==============================] - 0s 3ms/step - loss: 1.0832 - accuracy: 0.5862\n",
      "Epoch 45/100\n",
      "98/98 [==============================] - 0s 2ms/step - loss: 0.7911 - accuracy: 0.6148\n",
      "Epoch 46/100\n",
      "98/98 [==============================] - 0s 2ms/step - loss: 1.1716 - accuracy: 0.5775\n",
      "Epoch 47/100\n",
      "98/98 [==============================] - 0s 2ms/step - loss: 1.0582 - accuracy: 0.6058\n",
      "Epoch 48/100\n",
      "98/98 [==============================] - 0s 2ms/step - loss: 1.7218 - accuracy: 0.5714\n",
      "Epoch 49/100\n",
      "98/98 [==============================] - 0s 2ms/step - loss: 0.8607 - accuracy: 0.6190\n",
      "Epoch 50/100\n",
      "98/98 [==============================] - 0s 2ms/step - loss: 0.8338 - accuracy: 0.6132\n",
      "Epoch 51/100\n",
      "98/98 [==============================] - 0s 2ms/step - loss: 1.2132 - accuracy: 0.5884\n",
      "Epoch 52/100\n",
      "98/98 [==============================] - 0s 2ms/step - loss: 0.8446 - accuracy: 0.6228\n",
      "Epoch 53/100\n",
      "98/98 [==============================] - 0s 2ms/step - loss: 0.9266 - accuracy: 0.5977\n",
      "Epoch 54/100\n",
      "98/98 [==============================] - 0s 2ms/step - loss: 0.9241 - accuracy: 0.5990\n",
      "Epoch 55/100\n",
      "98/98 [==============================] - 0s 2ms/step - loss: 1.0092 - accuracy: 0.6039\n",
      "Epoch 56/100\n",
      "98/98 [==============================] - 0s 2ms/step - loss: 0.8353 - accuracy: 0.6209\n",
      "Epoch 57/100\n",
      "98/98 [==============================] - 0s 2ms/step - loss: 1.1231 - accuracy: 0.5958\n",
      "Epoch 58/100\n",
      "98/98 [==============================] - 0s 2ms/step - loss: 0.8585 - accuracy: 0.6100\n",
      "Epoch 59/100\n",
      "98/98 [==============================] - 0s 2ms/step - loss: 1.1185 - accuracy: 0.5929\n",
      "Epoch 60/100\n",
      "98/98 [==============================] - 0s 2ms/step - loss: 1.1769 - accuracy: 0.5826\n",
      "Epoch 61/100\n",
      "98/98 [==============================] - 0s 2ms/step - loss: 0.9271 - accuracy: 0.6055\n",
      "Epoch 62/100\n",
      "98/98 [==============================] - 0s 2ms/step - loss: 1.1125 - accuracy: 0.5965\n",
      "Epoch 63/100\n",
      "98/98 [==============================] - 0s 3ms/step - loss: 1.1139 - accuracy: 0.6093\n",
      "Epoch 64/100\n",
      "98/98 [==============================] - 0s 2ms/step - loss: 1.3038 - accuracy: 0.5884\n",
      "Epoch 65/100\n",
      "98/98 [==============================] - 0s 2ms/step - loss: 0.8562 - accuracy: 0.6167\n",
      "Epoch 66/100\n",
      "98/98 [==============================] - 0s 2ms/step - loss: 0.8556 - accuracy: 0.6151\n",
      "Epoch 67/100\n",
      "98/98 [==============================] - 0s 2ms/step - loss: 1.1949 - accuracy: 0.5781\n",
      "Epoch 68/100\n",
      "98/98 [==============================] - 0s 2ms/step - loss: 1.3221 - accuracy: 0.5891\n",
      "Epoch 69/100\n",
      "98/98 [==============================] - 0s 2ms/step - loss: 0.7906 - accuracy: 0.6257\n",
      "Epoch 70/100\n",
      "98/98 [==============================] - 0s 2ms/step - loss: 0.9120 - accuracy: 0.6129\n",
      "Epoch 71/100\n",
      "98/98 [==============================] - 0s 2ms/step - loss: 1.1080 - accuracy: 0.5875\n",
      "Epoch 72/100\n",
      "98/98 [==============================] - 0s 2ms/step - loss: 0.9377 - accuracy: 0.6119\n",
      "Epoch 73/100\n",
      "98/98 [==============================] - 0s 2ms/step - loss: 1.4921 - accuracy: 0.5939\n",
      "Epoch 74/100\n",
      "98/98 [==============================] - 0s 2ms/step - loss: 0.8804 - accuracy: 0.6151\n",
      "Epoch 75/100\n",
      "98/98 [==============================] - 0s 2ms/step - loss: 1.1123 - accuracy: 0.5904\n",
      "Epoch 76/100\n",
      "98/98 [==============================] - 0s 2ms/step - loss: 0.9807 - accuracy: 0.6238\n",
      "Epoch 77/100\n",
      "98/98 [==============================] - 0s 2ms/step - loss: 0.9441 - accuracy: 0.6084\n",
      "Epoch 78/100\n",
      "98/98 [==============================] - 0s 2ms/step - loss: 1.4251 - accuracy: 0.5913\n",
      "Epoch 79/100\n",
      "98/98 [==============================] - 0s 2ms/step - loss: 0.7858 - accuracy: 0.6338\n",
      "Epoch 80/100\n",
      "98/98 [==============================] - 0s 2ms/step - loss: 1.3556 - accuracy: 0.5797\n",
      "Epoch 81/100\n",
      "98/98 [==============================] - 0s 2ms/step - loss: 0.8575 - accuracy: 0.6209\n",
      "Epoch 82/100\n",
      "98/98 [==============================] - 0s 2ms/step - loss: 1.3106 - accuracy: 0.5775\n",
      "Epoch 83/100\n",
      "98/98 [==============================] - 0s 2ms/step - loss: 0.9037 - accuracy: 0.6042\n",
      "Epoch 84/100\n",
      "98/98 [==============================] - 0s 2ms/step - loss: 0.8297 - accuracy: 0.6293\n",
      "Epoch 85/100\n",
      "98/98 [==============================] - 0s 2ms/step - loss: 1.0014 - accuracy: 0.6186\n",
      "Epoch 86/100\n",
      "98/98 [==============================] - 0s 3ms/step - loss: 0.7444 - accuracy: 0.6270\n",
      "Epoch 87/100\n",
      "98/98 [==============================] - 0s 3ms/step - loss: 0.8819 - accuracy: 0.6119\n",
      "Epoch 88/100\n",
      "98/98 [==============================] - 0s 2ms/step - loss: 0.8912 - accuracy: 0.6199\n",
      "Epoch 89/100\n",
      "98/98 [==============================] - 0s 3ms/step - loss: 1.0721 - accuracy: 0.6109\n",
      "Epoch 90/100\n",
      "98/98 [==============================] - 0s 3ms/step - loss: 0.9878 - accuracy: 0.6093\n",
      "Epoch 91/100\n",
      "98/98 [==============================] - 0s 2ms/step - loss: 0.8689 - accuracy: 0.6212\n",
      "Epoch 92/100\n",
      "98/98 [==============================] - 0s 2ms/step - loss: 0.8330 - accuracy: 0.6277\n",
      "Epoch 93/100\n",
      "98/98 [==============================] - 0s 3ms/step - loss: 0.9300 - accuracy: 0.6125\n",
      "Epoch 94/100\n",
      "98/98 [==============================] - 0s 2ms/step - loss: 0.8696 - accuracy: 0.6103\n",
      "Epoch 95/100\n",
      "98/98 [==============================] - 0s 2ms/step - loss: 0.9731 - accuracy: 0.6071\n",
      "Epoch 96/100\n",
      "98/98 [==============================] - 0s 2ms/step - loss: 1.0916 - accuracy: 0.6013\n",
      "Epoch 97/100\n",
      "98/98 [==============================] - 0s 2ms/step - loss: 1.1745 - accuracy: 0.6058\n",
      "Epoch 98/100\n",
      "98/98 [==============================] - 0s 2ms/step - loss: 0.8384 - accuracy: 0.6331\n",
      "Epoch 99/100\n",
      "98/98 [==============================] - 0s 2ms/step - loss: 0.8115 - accuracy: 0.6219\n",
      "Epoch 100/100\n",
      "98/98 [==============================] - 0s 2ms/step - loss: 0.7748 - accuracy: 0.6296\n",
      "63/63 [==============================] - 0s 1ms/step - loss: 0.5182 - accuracy: 0.7905\n",
      "[0.5181536078453064, 0.7904999852180481]\n",
      "63/63 [==============================] - 0s 1ms/step\n",
      "Classification report :\n",
      "              precision    recall  f1-score   support\n",
      "\n",
      "           0       0.83      0.92      0.87      1593\n",
      "           1       0.48      0.29      0.36       407\n",
      "\n",
      "    accuracy                           0.79      2000\n",
      "   macro avg       0.66      0.60      0.62      2000\n",
      "weighted avg       0.76      0.79      0.77      2000\n",
      "\n"
     ]
    }
   ],
   "source": [
    "## Batch 4\n",
    "\n",
    "x_train_ens_4, y_train_ens_4 = get_train_batch(df3_class_0, df3_class_1, 4890, 6520)\n",
    "y_pred_4 = ANN(x_train_ens_4, y_train_ens_4, x_test_ens, y_test_ens, 'binary_crossentropy', -1)"
   ]
  },
  {
   "cell_type": "code",
   "execution_count": null,
   "id": "fb4817dc-f0c2-4298-920f-b67839504b22",
   "metadata": {},
   "outputs": [],
   "source": []
  },
  {
   "cell_type": "code",
   "execution_count": 77,
   "id": "a6d2a485-3031-422b-af53-53b9ce151972",
   "metadata": {},
   "outputs": [],
   "source": [
    "##### Make Majority Vote to get final result"
   ]
  },
  {
   "cell_type": "code",
   "execution_count": 78,
   "id": "290c0b34-0920-42f7-a1f6-920a8aabfbc5",
   "metadata": {},
   "outputs": [],
   "source": [
    "y_pred_final = y_pred_1.copy()\n",
    "\n",
    "for i in range(len(y_pred_1)):\n",
    "    n_ones = y_pred_1[i] + y_pred_2[i] + y_pred_3[i] + y_pred_4[i]\n",
    "    if n_ones > 1:\n",
    "        y_pred_final[i] = 1\n",
    "    else:\n",
    "        y_pred_final[i] = 0"
   ]
  },
  {
   "cell_type": "code",
   "execution_count": 79,
   "id": "dea6e7dd-a4c6-497b-9a6b-f01f584f9cf0",
   "metadata": {},
   "outputs": [
    {
     "name": "stdout",
     "output_type": "stream",
     "text": [
      "              precision    recall  f1-score   support\n",
      "\n",
      "           0       0.88      0.72      0.79      1593\n",
      "           1       0.36      0.61      0.45       407\n",
      "\n",
      "    accuracy                           0.70      2000\n",
      "   macro avg       0.62      0.66      0.62      2000\n",
      "weighted avg       0.77      0.70      0.72      2000\n",
      "\n"
     ]
    }
   ],
   "source": [
    "print(classification_report(y_test_ens, y_pred_final))"
   ]
  },
  {
   "cell_type": "code",
   "execution_count": null,
   "id": "526cc35f-75c0-4ded-bb7c-824db4dd8c05",
   "metadata": {},
   "outputs": [],
   "source": []
  },
  {
   "cell_type": "markdown",
   "id": "4f6e2172-9ef3-45bb-8cac-cdced98fa0b8",
   "metadata": {},
   "source": [
    "#### Conclusion"
   ]
  },
  {
   "cell_type": "markdown",
   "id": "cccddcb9-d934-424f-829a-6cb63bd72b66",
   "metadata": {},
   "source": [
    "Initial model |\n",
    " - | \n",
    " ![initial](images/Initial.png) |"
   ]
  },
  {
   "cell_type": "markdown",
   "id": "78816a3b-689b-4cdd-8ee0-f106a8819e14",
   "metadata": {},
   "source": [
    " Undersampling | Oversampling | SMOTE | Ensemble\n",
    " - | - | - | - \n",
    " ![img1](images/under_sampling.png) | ![img2](images/over_sampling.png) | ![img3](images/SMOTE.png) |![img4](images/ensemble.png)"
   ]
  },
  {
   "cell_type": "markdown",
   "id": "63579578-4bf6-43df-99bc-97b61534001c",
   "metadata": {},
   "source": [
    "By Comparing the classification reports above, we remark that using a `simple ANN` has not a good performance ( **precision, recall,f1-score**) on `class 1`. Using other techniques has improved this perfoemance. But `SMOTE` has given the best performance. However `Ensemble with undersampling` is not suitable for our use case as it performs less than the initial model."
   ]
  },
  {
   "cell_type": "code",
   "execution_count": null,
   "id": "7b474a20-61a4-4030-a021-09431807b46c",
   "metadata": {},
   "outputs": [],
   "source": []
  }
 ],
 "metadata": {
  "kernelspec": {
   "display_name": "Python 3 (ipykernel)",
   "language": "python",
   "name": "python3"
  },
  "language_info": {
   "codemirror_mode": {
    "name": "ipython",
    "version": 3
   },
   "file_extension": ".py",
   "mimetype": "text/x-python",
   "name": "python",
   "nbconvert_exporter": "python",
   "pygments_lexer": "ipython3",
   "version": "3.10.12"
  }
 },
 "nbformat": 4,
 "nbformat_minor": 5
}
